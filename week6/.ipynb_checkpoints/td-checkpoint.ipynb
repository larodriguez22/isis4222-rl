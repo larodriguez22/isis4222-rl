{
 "cells": [
  {
   "cell_type": "code",
   "execution_count": 1,
   "metadata": {},
   "outputs": [],
   "source": [
    "import matplotlib.pyplot as plt\n",
    "import numpy as np\n",
    "import matplotlib.patches as patches\n",
    "import time\n",
    "\n",
    "class Gridworld:\n",
    "    def __init__(self, board, initial_state = (0,0)):\n",
    "        self.nrows, self.ncols = len(board),len(board[0])\n",
    "        self.grid = np.zeros((self.nrows, self.ncols))\n",
    "        \n",
    "        for i in range(len(board)):\n",
    "            for j in range(len(board[0])):\n",
    "                if board[i][j] == \"*\":\n",
    "                    self.grid[i][j] = -2\n",
    "                elif board[i][j] == \"+1\":\n",
    "                    self.grid[i][j] = 1\n",
    "                elif board[i][j] == \"+100\":\n",
    "                    self.grid[i][j] = 100\n",
    "                elif board[i][j] == \"-1\":\n",
    "                    self.grid[i][j] = -1\n",
    "                elif board[i][j] == \"-100\":\n",
    "                    self.grid[i][j] = -100\n",
    "        # self.grid[-1, -1] = 1  # set the final state to have a reward of 1\n",
    "        # print(\"grid despues\",self.grid)\n",
    "        self.initial_state = initial_state\n",
    "        self.state = initial_state\n",
    "        \n",
    "    def get_states(self):\n",
    "        return [(i, j) for i in range(len(self.grid)) for j in range(len(self.grid[0]))]\n",
    "\n",
    "    def get_current_state(self):\n",
    "        return self.state\n",
    "\n",
    "    def get_possible_actions(self, state):\n",
    "        # print(state)\n",
    "        i, j = state\n",
    "        actions = []\n",
    "        if self.grid[state]==0:\n",
    "            if j > 0 and self.grid[i][j-1] != -2:\n",
    "                actions.append('down')\n",
    "            if j < self.ncols - 1 and self.grid[i][j+1] != -2:\n",
    "                actions.append('up')\n",
    "            if i > 0 and self.grid[i-1][j] != -2:\n",
    "                actions.append('left')\n",
    "            if i < self.nrows - 1 and self.grid[i+1][j] != -2:\n",
    "                actions.append('right')\n",
    "        elif self.grid[state] != -2:\n",
    "            actions.append(\"end\")\n",
    "        elif self.grid[state] == -2:\n",
    "            return [None]\n",
    "        return actions\n",
    "    \n",
    "    def get_next_states(self, state, action):\n",
    "        i, j = state\n",
    "        reward = 0\n",
    "        if action == 'left' :\n",
    "            i -= 1\n",
    "        elif action == 'right':\n",
    "            i += 1\n",
    "        elif action == 'down':\n",
    "            j -= 1\n",
    "        elif action == 'up':\n",
    "            j += 1\n",
    "        elif action == 'end':\n",
    "            reward = self.grid[i, j]\n",
    "        state_sig = (i, j)\n",
    "        return reward, state_sig\n",
    "\n",
    "    def do_action(self, action):\n",
    "        i, j = self.state\n",
    "        reward = 0\n",
    "        done = False\n",
    "        if action == 'left' :\n",
    "            i -= 1\n",
    "        elif action == 'right':\n",
    "            i += 1\n",
    "        elif action == 'down':\n",
    "            j -= 1\n",
    "        elif action == 'up':\n",
    "            j += 1\n",
    "        elif action == 'end':\n",
    "            reward = self.grid[i, j]\n",
    "            done = True\n",
    "            \n",
    "        self.state = (i, j)\n",
    "        return self.grid[i, j], self.state, done\n",
    "\n",
    "    def reset(self):\n",
    "        self.state = self.initial_state\n",
    "\n",
    "    def is_terminal(self):\n",
    "        return self.grid[self.state] != 0 and self.grid[self.state] != -2\n",
    "    \n",
    "    def plot(self):\n",
    "        fig1 = plt.figure(figsize=(10, 10))\n",
    "        ax1 = fig1.add_subplot(111, aspect='equal')\n",
    "        \n",
    "        # Lineas\n",
    "        for i in range(0, len(self.grid)+1):\n",
    "            ax1.axvline(i , linewidth=2, color=\"#2D2D33\")\n",
    "        for j in range(0, len(self.grid[0])+1):\n",
    "            ax1.axhline(j , linewidth=2, color=\"#2D2D33\")\n",
    "        \n",
    "        # Amarillo - inicio\n",
    "        ax1.add_patch(patches.Rectangle(self.initial_state, 1, 1, facecolor = \"#F6D924\"))\n",
    "        for i in range(len(self.grid)):\n",
    "            for j in range(len(self.grid[0])):\n",
    "                if self.grid[i][j] >= 1: # verde\n",
    "                    ax1.add_patch(patches.Rectangle((i,j), 1, 1, facecolor = \"#68FF33\"))\n",
    "                if self.grid[i][j] == -2: # gris\n",
    "                    ax1.add_patch(patches.Rectangle((i,j), 1, 1, facecolor = \"#6c7780\"))\n",
    "                if self.grid[i][j] == -1 or self.grid[i][j] == -100: # rojo\n",
    "                    ax1.add_patch(patches.Rectangle((i,j), 1, 1, facecolor = \"#cc0000\"))\n",
    "        plt.scatter(self.state[0] + 0.5, self.state[1] +0.5, s = 100, color = \"black\", marker = \"o\", facecolor = \"blue\", edgecolors = \"blue\", zorder = 10)\n",
    "        for i in range(len(self.grid)):\n",
    "            for j in range(len(self.grid[0])):\n",
    "                if self.grid[i, j] == -2:\n",
    "                    ax1.text(i+0.5, j+0.5, \"*\", ha='center', va='center')\n",
    "                else:\n",
    "                    ax1.text(i+0.5, j+0.5, self.grid[i, j], ha='center', va='center')\n",
    "        plt.axis(\"off\")\n",
    "        plt.show()\n",
    "        \n",
    "    def get_action_test(self, action):\n",
    "        if action=='left':\n",
    "            return '<'\n",
    "        if action=='right':\n",
    "            return '>'\n",
    "        if action=='up':\n",
    "            return '^'\n",
    "        if action=='down':\n",
    "            return 'v'\n",
    "        if action=='exit':\n",
    "            return 'x'\n",
    "        \n",
    "    def plot_action(self, actions, values):\n",
    "        fig1 = plt.figure(figsize=(10, 10))\n",
    "        ax1 = fig1.add_subplot(111, aspect='equal')\n",
    "        \n",
    "        # Lineas\n",
    "        for i in range(0, len(self.grid)+1):\n",
    "            ax1.axvline(i , linewidth=2, color=\"#2D2D33\")\n",
    "        for j in range(0, len(self.grid[0])+1):\n",
    "            ax1.axhline(j , linewidth=2, color=\"#2D2D33\")\n",
    "        \n",
    "        # Amarillo - inicio\n",
    "        ax1.add_patch(patches.Rectangle(self.initial_state, 1, 1, facecolor = \"#F6D924\"))\n",
    "        for i in range(len(self.grid)):\n",
    "            for j in range(len(self.grid[0])):\n",
    "                if self.grid[i][j] >= 1: # verde\n",
    "                    ax1.add_patch(patches.Rectangle((i,j), 1, 1, facecolor = \"#68FF33\"))\n",
    "                if self.grid[i][j] == -2: # gris\n",
    "                    ax1.add_patch(patches.Rectangle((i,j), 1, 1, facecolor = \"#6c7780\"))\n",
    "                if self.grid[i][j] == -1 or self.grid[i][j] == -100: # rojo\n",
    "                    ax1.add_patch(patches.Rectangle((i,j), 1, 1, facecolor = \"#cc0000\"))\n",
    "        self.reset()\n",
    "        plt.scatter(self.state[0] + 0.5, self.state[1] +0.5, s = 100, color = \"black\", marker = \"o\", facecolor = \"blue\", edgecolors = \"blue\", zorder = 10)\n",
    "        \n",
    "        for i in range(len(self.grid)):\n",
    "            for j in range(len(self.grid[0])):\n",
    "                if self.grid[i, j] == -2:\n",
    "                    ax1.text(i+0.5, j+0.5, \"*\", ha='center', va='center')\n",
    "                else:\n",
    "                    try:\n",
    "                        ax1.text(i+0.5, j+0.75, round(values[i, j],2), ha='center', va='center')\n",
    "                        text2=self.get_action_test(actions[(i,j)])\n",
    "                        ax1.text(i+0.5, j+0.25, text2, ha='center', va='center')\n",
    "                    except:\n",
    "                        ax1.text(i+0.5, j+0.75, 0, ha='center', va='center')\n",
    "                        ax1.text(i+0.5, j+0.25, \"None\", ha='center', va='center')\n",
    "        plt.axis(\"off\")\n",
    "        plt.show()"
   ]
  },
  {
   "cell_type": "markdown",
   "metadata": {},
   "source": [
    "# Aprendizaje por diferencia temporal (TD)\n",
    "\n",
    "En este ejercicio vamos a implementar el método de diferencia temporal para para resolver MDPs con transiciones y recompensas desconocidas. \n",
    "\n",
    "El método de TD se basa en el cálculo de los valores para los estados de acuerdo con la fórmula:\n",
    "\n",
    "$V^\\pi(s) \\leftarrow (1-\\alpha)V^\\pi(s) + \\alpha[R(s, \\pi(s), s') + \\gamma V^\\pi(s')]$\n",
    "\n",
    "donde $\\alpha$ corresponde a la taza de aprendizaje.\n",
    "\n",
    "### **Task 1**\n",
    "Para implementar TD definimos `td_learning.py` como una extensión del ambiente de Gridworld. Dentro de esta extensión debemos asegurarnos que:\n",
    "  - Seguimos una política, dada como un parámetro del ambiente.\n",
    "  - Cada paso de la muestra ejecuta la política para el estado actual, obteniendo un estado de llegada y una recompensa. Tenga en cuenta que las acciones no son determinísticas y la ejecución de cada acción depende de un factor de ruido (en el caso de Gridworld, tomaremos una probabilidad de 0.2 para las acciones abajo e izquierda y 0.3 para las acciones arriba y derecha, desconocida para el agente).\n",
    "  - A partir de los valores obtenidos de diferentes muestras, obtenga una nueva política.\n"
   ]
  },
  {
   "cell_type": "code",
   "execution_count": 31,
   "metadata": {},
   "outputs": [],
   "source": [
    "import random\n",
    "\n",
    "class TDLearning():\n",
    "    def __init__(self, env, alpha, gamma):\n",
    "        self.env = env\n",
    "        self.alpha = alpha\n",
    "        self.gamma = gamma\n",
    "        self.last_policy = {}\n",
    "        self.policy = {}\n",
    "        self.values = {}\n",
    "        self.counter = 0\n",
    "\n",
    "    def step(self):\n",
    "        state = self.env.state\n",
    "        actions = self.env.get_possible_actions(state)\n",
    "        action = random.choice(actions)\n",
    "        # self.policy[state] = action\n",
    "        reward, next_state, done = self.env.do_action(action)\n",
    "        if self.values.get(state) is None:\n",
    "            self.values[state] = 0\n",
    "        if self.values.get(next_state) is None:\n",
    "            self.values[next_state] = 0\n",
    "        self.values[state] = (1 - self.alpha) * self.values[state] + self.alpha * (reward + self.gamma * self.values[next_state])\n",
    "        # self.state = next_state\n",
    "        return reward, done\n",
    "\n",
    "    def train(self, num_episodes):\n",
    "        for i in range(num_episodes):\n",
    "            self.env.reset()\n",
    "            done = False\n",
    "            while not done:\n",
    "                reward, done = self.step()\n",
    "                self.update_policy()\n",
    "            centinela = True\n",
    "            self.counter +=1\n",
    "            for state in self.values:\n",
    "                if self.last_policy[state] != self.policy[state]:\n",
    "                    centinela = False\n",
    "            if centinela and self.counter > 100:\n",
    "                print(\"Ya logro convergencia, en la iteracion:\",i)\n",
    "                return self.values, self.policy\n",
    "        return self.values, self.policy\n",
    "\n",
    "    def update_policy(self):\n",
    "        for state in self.values:\n",
    "            try:\n",
    "                self.last_policy[state] = self.policy[state]\n",
    "            except:\n",
    "                self.last_policy[state] = 0\n",
    "            best_action = self.get_best_action(state)\n",
    "            self.policy[state] = best_action\n",
    "\n",
    "    def get_best_action(self, state):\n",
    "        best_action = None\n",
    "        best_value = None\n",
    "        for action in self.env.get_possible_actions(state):\n",
    "            reward, next_state = self.env.get_next_states(state, action)\n",
    "            if next_state is not None:\n",
    "                if self.values.get(next_state) is not None:\n",
    "                    value = reward + self.gamma * self.values[next_state]\n",
    "                    if best_value is None or value > best_value:\n",
    "                        best_action = action\n",
    "                        best_value = value\n",
    "        return best_action\n"
   ]
  },
  {
   "cell_type": "code",
   "execution_count": 32,
   "metadata": {},
   "outputs": [],
   "source": [
    "# create the Gridworld environment\n",
    "board = [\n",
    "    [' ', ' ', ' ', ' ', ' ',' ', ' ', ' ', ' ', ' '],\n",
    "    [' ', ' ', ' ', ' ', ' ',' ', ' ', '*', ' ', ' '],\n",
    "    [' ', ' ', ' ', ' ', ' ',' ', ' ', '*', ' ', ' '],\n",
    "    [' ', ' ', ' ', ' ', ' ',' ', ' ', '*', ' ', ' '],\n",
    "    [' ', ' ', '*', '*', '*','*', '*', '*', ' ', ' '],\n",
    "    [' ', ' ', '-1', ' ', '+1','-1', ' ', ' ', ' ', ' '],\n",
    "    [' ', ' ', '-1', ' ', ' ',' ', ' ', '*', ' ', ' '],\n",
    "    [' ', ' ', ' ', ' ', ' ',' ', ' ', '*', ' ', ' '],\n",
    "    [' ', ' ', ' ', ' ', ' ',' ', ' ', '*', ' ', ' '],\n",
    "    [' ', ' ', ' ', ' ', ' ',' ', ' ', ' ', ' ', ' '],\n",
    "]\n",
    "\n",
    "initial_state = (0, 9)\n",
    "env = Gridworld(board, initial_state)\n",
    "td = TDLearning(env, alpha=0.1, gamma=0.9)\n",
    "# td.plot()"
   ]
  },
  {
   "cell_type": "code",
   "execution_count": 33,
   "metadata": {},
   "outputs": [
    {
     "name": "stdout",
     "output_type": "stream",
     "text": [
      "Ya logro convergencia, en la iteracion: 100\n",
      "{(0, 9): -0.007844018384123278, (0, 8): -0.006795009183025522, (0, 7): -0.003474674952823719, (1, 8): -0.01044935899373041, (2, 8): -0.02347487890557161, (1, 9): -0.012195219162048937, (2, 9): -0.019951763967983458, (3, 8): -0.03661239588464735, (3, 9): -0.028579204943962044, (4, 8): -0.10262002375731492, (5, 8): -0.33458416413125286, (5, 9): -0.0951240297009051, (6, 8): -0.10428856484880049, (7, 8): -0.03745366648040166, (7, 9): -0.02932443595925458, (8, 9): -0.018369670928939798, (8, 8): -0.018457870250888478, (9, 9): -0.010849796165237608, (9, 8): -0.010583443052755501, (9, 7): -0.015037253406547347, (6, 9): -0.0633509571969617, (4, 9): -0.05363270643766247, (5, 7): -1.0169216711843196, (9, 6): -0.03693616719609433, (9, 5): -0.027501011169187805, (8, 5): -0.11575170681466536, (8, 4): -0.03978932402923299, (7, 4): -0.10488075685932258, (7, 3): -0.2677005985632879, (8, 3): -0.09966931263477113, (8, 2): -0.3322071933206479, (7, 2): -1.3034078448139925, (9, 3): -0.04420116203827298, (9, 4): -0.02464755923779281, (9, 2): -0.10620084425508859, (8, 1): -0.1672939266626741, (7, 1): -0.3719198416025134, (6, 1): -0.7782962902513346, (5, 1): -1.172676710972862, (5, 2): -2.0638571635634455, (0, 6): -0.002380719097322798, (1, 6): -0.001891236183650792, (5, 6): -2.24912770343699, (6, 6): -0.9974746560603257, (6, 5): -0.8876763286721254, (5, 5): -3.5738839791528187, (7, 6): -0.3349791685520855, (8, 6): -0.11275620545038245, (6, 4): -0.0940161776620338, (2, 6): -0.002026061460249655, (1, 5): -0.002154194376141936, (2, 5): -0.0031230322185186498, (3, 6): -0.0028626270754108386, (3, 5): -0.004501046892655753, (3, 4): -0.009047709882678065, (2, 4): -0.007086530911746217, (0, 5): -0.0020644799527174936, (0, 4): -0.003013756080518602, (1, 4): -0.004737659748764713, (3, 3): -0.0241455849235196, (3, 2): -0.053749387853518, (2, 2): -0.020313417133654407, (2, 1): -0.03557407669568134, (3, 1): -0.12284470830676991, (2, 0): -0.03921971668447173, (1, 2): -0.012533736006818456, (1, 3): -0.00845720802779272, (2, 3): -0.012547797971557523, (5, 4): 0.7725530557207991, (0, 3): -0.005979876118913986, (0, 2): -0.0073081801995380615, (0, 1): -0.00875951815492684, (0, 0): -0.01181421705095818, (1, 0): -0.018363709594782947, (1, 1): -0.012535625678095566, (3, 0): -0.10066345238441567, (4, 0): -0.24618486652749255, (5, 0): -0.394647160637177, (6, 2): -2.299568541948448, (4, 1): -0.454329019851017, (6, 0): -0.27417593903353427, (7, 5): -0.26958410719303233, (6, 3): -0.235730665198616, (7, 0): -0.10904482604762732, (8, 0): -0.04094076261995494, (9, 0): -0.009062676953978036, (9, 1): -0.03853796553402726, (5, 3): -0.086826692883347}\n",
      "\n",
      "{(0, 9): 'down', (0, 8): 'down', (0, 7): 'down', (1, 8): 'left', (2, 8): 'left', (1, 9): 'left', (2, 9): 'left', (3, 8): 'left', (3, 9): 'left', (4, 8): 'left', (5, 8): 'up', (5, 9): 'left', (6, 8): 'right', (7, 8): 'right', (7, 9): 'right', (8, 9): 'right', (8, 8): 'right', (9, 9): 'down', (9, 8): 'up', (9, 7): 'up', (6, 9): 'right', (4, 9): 'left', (5, 7): 'up', (9, 6): 'up', (9, 5): 'down', (8, 5): 'right', (8, 4): 'right', (7, 4): 'right', (7, 3): 'right', (8, 3): 'up', (8, 2): 'up', (7, 2): 'up', (9, 3): 'up', (9, 4): 'up', (9, 2): 'down', (8, 1): 'right', (7, 1): 'down', (6, 1): 'down', (5, 1): 'down', (5, 2): 'end', (0, 6): 'right', (1, 6): 'right', (5, 6): 'right', (6, 6): 'right', (6, 5): 'down', (5, 5): 'end', (7, 6): 'right', (8, 6): 'right', (6, 4): 'left', (2, 6): 'left', (1, 5): 'up', (2, 5): 'up', (3, 6): 'left', (3, 5): 'up', (3, 4): 'up', (2, 4): 'up', (0, 5): 'right', (0, 4): 'up', (1, 4): 'up', (3, 3): 'up', (3, 2): 'left', (2, 2): 'left', (2, 1): 'left', (3, 1): 'left', (2, 0): 'left', (1, 2): 'left', (1, 3): 'up', (2, 3): 'up', (5, 4): 'end', (0, 3): 'up', (0, 2): 'up', (0, 1): 'up', (0, 0): 'up', (1, 0): 'left', (1, 1): 'left', (3, 0): 'left', (4, 0): 'left', (5, 0): 'left', (6, 2): 'end', (4, 1): 'left', (6, 0): 'right', (7, 5): 'down', (6, 3): 'left', (7, 0): 'right', (8, 0): 'right', (9, 0): 'up', (9, 1): 'down', (5, 3): 'up'}\n"
     ]
    }
   ],
   "source": [
    "V, policy = td.train(num_episodes=500)\n",
    "print(V)\n",
    "print()\n",
    "print(policy)"
   ]
  },
  {
   "cell_type": "code",
   "execution_count": 35,
   "metadata": {},
   "outputs": [
    {
     "data": {
      "image/png": "[encoded data removed]",
      "text/plain": [
       "<Figure size 720x720 with 1 Axes>"
      ]
     },
     "metadata": {
      "needs_background": "light"
     },
     "output_type": "display_data"
    }
   ],
   "source": [
    "env.plot_action(policy, V)"
   ]
  },
  {
   "cell_type": "markdown",
   "metadata": {},
   "source": [
    "### **Task 2**\n",
    "Responda las preguntas\n",
    "1. ¿Cuántas iteraciones son necesarias para que la política de las muestras se estabilice?"
   ]
  },
  {
   "cell_type": "code",
   "execution_count": 38,
   "metadata": {},
   "outputs": [
    {
     "name": "stdout",
     "output_type": "stream",
     "text": [
      "Ya logro convergencia, en la iteracion: 100\n"
     ]
    },
    {
     "data": {
      "image/png": "[encoded data removed]",
      "text/plain": [
       "<Figure size 720x720 with 1 Axes>"
      ]
     },
     "metadata": {
      "needs_background": "light"
     },
     "output_type": "display_data"
    }
   ],
   "source": [
    "env = Gridworld(board, initial_state)\n",
    "td = TDLearning(env, alpha=0.1, gamma=0.9)\n",
    "V, policy = td.train(num_episodes=500)\n",
    "env.plot_action(policy, V)"
   ]
  },
  {
   "cell_type": "markdown",
   "metadata": {},
   "source": [
    "2. ¿Cómo se compara la política obtenida con la calculada utilizando iteración de valores o iteración de políticas? ¿Existe alguna diferencia? ¿Porqué?"
   ]
  },
  {
   "cell_type": "markdown",
   "metadata": {},
   "source": [
    "La iteración de valores actualiza los valores de cada estado iterativamente hasta que convergen a los valores verdaderos, y luego calcula la política óptima basada en estos valores. Por otro lado, la iteración de políticas actualiza directamente la política iterativamente hasta que converge a la política óptima. Estos métodos son iterativos y necesitan conocer la dinámica completa del entorno y requieren calcular la función de valor o la función de política en cada paso.\n",
    "\n",
    "En cambio, el algoritmo de aprendizaje por diferencia temporal utiliza la información de experiencia real (por ejemplo, la recompensa observada y las transiciones de estado-acción) para actualizar iterativamente los valores de la política. Este método no requiere conocer la dinámica completa del entorno y puede ser utilizado en situaciones en las que la función de transición y la función de recompensa son desconocidas o complejas.\n",
    "\n",
    "Por lo tanto, la política obtenida por el algoritmo de aprendizaje por diferencia temporal difiere bastante por los métodos iterativos, ya que se basa en la experiencia real en lugar de en una estimación iterativa."
   ]
  }
 ],
 "metadata": {
  "kernelspec": {
   "display_name": "Python 3 (ipykernel)",
   "language": "python",
   "name": "python3"
  },
  "language_info": {
   "codemirror_mode": {
    "name": "ipython",
    "version": 3
   },
   "file_extension": ".py",
   "mimetype": "text/x-python",
   "name": "python",
   "nbconvert_exporter": "python",
   "pygments_lexer": "ipython3",
   "version": "3.9.7"
  },
  "vscode": {
   "interpreter": {
    "hash": "31f2aee4e71d21fbe5cf8b01ff0e069b9275f58929596ceb00d14d90e3e16cd6"
   }
  }
 },
 "nbformat": 4,
 "nbformat_minor": 4
}
