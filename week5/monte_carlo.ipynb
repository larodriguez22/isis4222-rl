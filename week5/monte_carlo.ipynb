{
 "cells": [
  {
   "cell_type": "code",
   "execution_count": 9,
   "metadata": {},
   "outputs": [],
   "source": [
    "import matplotlib.pyplot as plt\n",
    "import numpy as np\n",
    "import matplotlib.patches as patches\n",
    "import time\n",
    "\n",
    "class Gridworld:\n",
    "    def __init__(self, board, initial_state = (0,0)):\n",
    "        self.nrows, self.ncols = len(board),len(board[0])\n",
    "        self.grid = np.zeros((self.nrows, self.ncols))\n",
    "        self.is_terminal = False\n",
    "        \n",
    "        for i in range(len(board)):\n",
    "            for j in range(len(board[0])):\n",
    "                if board[i][j] == \"*\":\n",
    "                    self.grid[i][j] = -2\n",
    "                elif board[i][j] == \"+1\":\n",
    "                    self.grid[i][j] = 1\n",
    "                elif board[i][j] == \"+100\":\n",
    "                    self.grid[i][j] = 100\n",
    "                elif board[i][j] == \"-1\":\n",
    "                    self.grid[i][j] = -1\n",
    "                elif board[i][j] == \"-100\":\n",
    "                    self.grid[i][j] = -100\n",
    "        # self.grid[-1, -1] = 1  # set the final state to have a reward of 1\n",
    "        # print(\"grid despues\",self.grid)\n",
    "        self.initial_state = initial_state\n",
    "        self.state = initial_state\n",
    "        \n",
    "    def get_states(self):\n",
    "        return [(i, j) for i in range(len(self.grid)) for j in range(len(self.grid[0]))]\n",
    "\n",
    "    def get_current_state(self):\n",
    "        return self.state\n",
    "\n",
    "    def get_possible_actions(self, state):\n",
    "        i, j = state\n",
    "        actions = []\n",
    "        if self.grid[state]==0:\n",
    "            if j > 0 and self.grid[i][j-1] != -2:\n",
    "                actions.append('down')\n",
    "            if j < self.ncols - 1 and self.grid[i][j+1] != -2:\n",
    "                actions.append('up')\n",
    "            if i > 0 and self.grid[i-1][j] != -2:\n",
    "                actions.append('left')\n",
    "            if i < self.nrows - 1 and self.grid[i+1][j] != -2:\n",
    "                actions.append('right')\n",
    "        elif self.grid[state] != -2:\n",
    "            actions.append(\"end\")\n",
    "        elif self.grid[state] == -2:\n",
    "            return [None]\n",
    "        return actions\n",
    "    \n",
    "    def get_next_states(self, state, action):\n",
    "        i, j = state\n",
    "        reward = 0\n",
    "        if action == 'left' :\n",
    "            i -= 1\n",
    "        elif action == 'right':\n",
    "            i += 1\n",
    "        elif action == 'down':\n",
    "            j -= 1\n",
    "        elif action == 'up':\n",
    "            j += 1\n",
    "        elif action == 'end':\n",
    "            reward = self.grid[i, j]\n",
    "        self.state = (i, j)\n",
    "        return reward, self.state\n",
    "\n",
    "    def do_action(self, action):\n",
    "        i, j = self.state\n",
    "        reward = 0\n",
    "        if action == 'left' :\n",
    "            i -= 1\n",
    "        elif action == 'right':\n",
    "            i += 1\n",
    "        elif action == 'down':\n",
    "            j -= 1\n",
    "        elif action == 'up':\n",
    "            j += 1\n",
    "        elif action == 'end':\n",
    "            reward = self.grid[i, j]\n",
    "            \n",
    "        self.state = (i, j)\n",
    "        return self.grid[i, j], self.state\n",
    "\n",
    "    def reset(self):\n",
    "        self.state = self.initial_state\n",
    "\n",
    "    def is_terminal(self):\n",
    "        return self.grid[self.state] == 1\n",
    "    \n",
    "    def plot(self):\n",
    "        fig1 = plt.figure(figsize=(10, 10))\n",
    "        ax1 = fig1.add_subplot(111, aspect='equal')\n",
    "        \n",
    "        # Lineas\n",
    "        for i in range(0, len(self.grid)+1):\n",
    "            ax1.axvline(i , linewidth=2, color=\"#2D2D33\")\n",
    "        for j in range(0, len(self.grid[0])+1):\n",
    "            ax1.axhline(j , linewidth=2, color=\"#2D2D33\")\n",
    "        \n",
    "        # Amarillo - inicio\n",
    "        ax1.add_patch(patches.Rectangle(self.initial_state, 1, 1, facecolor = \"#F6D924\"))\n",
    "        for i in range(len(self.grid)):\n",
    "            for j in range(len(self.grid[0])):\n",
    "                if self.grid[i][j] >= 1: # verde\n",
    "                    ax1.add_patch(patches.Rectangle((i,j), 1, 1, facecolor = \"#68FF33\"))\n",
    "                if self.grid[i][j] == -2: # gris\n",
    "                    ax1.add_patch(patches.Rectangle((i,j), 1, 1, facecolor = \"#6c7780\"))\n",
    "                if self.grid[i][j] == -1 or self.grid[i][j] == -100: # rojo\n",
    "                    ax1.add_patch(patches.Rectangle((i,j), 1, 1, facecolor = \"#cc0000\"))\n",
    "        plt.scatter(self.state[0] + 0.5, self.state[1] +0.5, s = 100, color = \"black\", marker = \"o\", facecolor = \"blue\", edgecolors = \"blue\", zorder = 10)\n",
    "        for i in range(len(self.grid)):\n",
    "            for j in range(len(self.grid[0])):\n",
    "                if self.grid[i, j] == -2:\n",
    "                    ax1.text(i+0.5, j+0.5, \"*\", ha='center', va='center')\n",
    "                else:\n",
    "                    ax1.text(i+0.5, j+0.5, self.grid[i, j], ha='center', va='center')\n",
    "        plt.axis(\"off\")\n",
    "        plt.show()\n",
    "        \n",
    "    def get_action_test(self, action):\n",
    "        if action=='left':\n",
    "            return '<'\n",
    "        if action=='right':\n",
    "            return '>'\n",
    "        if action=='up':\n",
    "            return '^'\n",
    "        if action=='down':\n",
    "            return 'v'\n",
    "        if action=='exit':\n",
    "            return 'x'\n",
    "        \n",
    "    def plot_action(self, actions, values):\n",
    "        fig1 = plt.figure(figsize=(10, 10))\n",
    "        ax1 = fig1.add_subplot(111, aspect='equal')\n",
    "        \n",
    "        # Lineas\n",
    "        for i in range(0, len(self.grid)+1):\n",
    "            ax1.axvline(i , linewidth=2, color=\"#2D2D33\")\n",
    "        for j in range(0, len(self.grid[0])+1):\n",
    "            ax1.axhline(j , linewidth=2, color=\"#2D2D33\")\n",
    "        \n",
    "        # Amarillo - inicio\n",
    "        ax1.add_patch(patches.Rectangle(self.initial_state, 1, 1, facecolor = \"#F6D924\"))\n",
    "        for i in range(len(self.grid)):\n",
    "            for j in range(len(self.grid[0])):\n",
    "                if self.grid[i][j] >= 1: # verde\n",
    "                    ax1.add_patch(patches.Rectangle((i,j), 1, 1, facecolor = \"#68FF33\"))\n",
    "                if self.grid[i][j] == -2: # gris\n",
    "                    ax1.add_patch(patches.Rectangle((i,j), 1, 1, facecolor = \"#6c7780\"))\n",
    "                if self.grid[i][j] == -1 or self.grid[i][j] == -100: # rojo\n",
    "                    ax1.add_patch(patches.Rectangle((i,j), 1, 1, facecolor = \"#cc0000\"))\n",
    "        self.reset()\n",
    "        plt.scatter(self.state[0] + 0.5, self.state[1] +0.5, s = 100, color = \"black\", marker = \"o\", facecolor = \"blue\", edgecolors = \"blue\", zorder = 10)\n",
    "        \n",
    "        for i in range(len(self.grid)):\n",
    "            for j in range(len(self.grid[0])):\n",
    "                if self.grid[i, j] == -2:\n",
    "                    ax1.text(i+0.5, j+0.5, \"*\", ha='center', va='center')\n",
    "                else:\n",
    "                    ax1.text(i+0.5, j+0.75, round(values[i, j],2), ha='center', va='center')\n",
    "                    text2=self.get_action_test(actions[(i,j)])\n",
    "                    ax1.text(i+0.5, j+0.25, text2, ha='center', va='center')\n",
    "        plt.axis(\"off\")\n",
    "        plt.show()\n",
    "        "
   ]
  },
  {
   "cell_type": "markdown",
   "metadata": {},
   "source": [
    "# Métodos de Monte Carlo\n",
    "\n",
    "En este ejercicio vamos a implementar la primera solución para los problemas de aprendizaje por refuerzo, los métodos de Monte Carlo. \n",
    "\n",
    "Recuerde que el método de Monte Carlo consiste en la colección de muestras calculando los valores para la secuencia completa de los estados hasta el estado final. Una vez se han coleccionado \"suficientes\" muestras, el valor de los estados se toma como el valor promedio de las muestras sobre las cuales apareció el estado.\n",
    "\n",
    "Para resolver problemas de aprendizaje por refuerzo utilizando el método de Monte Carlo crearemos un archivo `mcm.py`. Inicialmente utilizaremos este archivo para solucionar el problema sobre el ambiente de Gridworld (suponiendo un ruido de `0.25` para las acciones).\n",
    "\n",
    "**Task 1**\n",
    "1.\tImplemente la classe `MCM` para solucionar Gridworld sin conocer los detalles del modelo de MDP para el problema. Es decir, en este caso, nuestro agente de `MCM` no tendrá acceso al `mdp` como era el caso para la iteración de valores o iteración de políticas.\n",
    "\n",
    "2. El comportamiento del agente (de Monte Carlo) esta dado por dos momentos. El proceso de recolección de muestras y el proceso de explotación de las mismas, es decir, el cálculo de la política del agente. Usted debe implementar el comportamiento del agente dado que, ejecutando episodios como muestras, sea capaz de calcular los valores para los estados.\n"
   ]
  },
  {
   "cell_type": "code",
   "execution_count": 10,
   "metadata": {},
   "outputs": [],
   "source": [
    "class MCM:\n",
    "    def __init__(self, gridworld, gamma=1, num_episodes=1000, threshold=0.00001):\n",
    "        # Initialize the MCM object with a Gridworld environment, a discount factor, and the number of episodes to generate\n",
    "        self.gridworld = gridworld\n",
    "        self.gamma = gamma\n",
    "        self.num_episodes = num_episodes\n",
    "        self.threshold = threshold\n",
    "        \n",
    "        # Initialize the value function V to zero for each state in the Gridworld environment\n",
    "        self.V = np.zeros_like(self.gridworld.grid)\n",
    "        \n",
    "        self.prev_V = np.zeros_like(self.gridworld.grid)\n",
    "        \n",
    "        # Initialize an empty dictionary to store the rewards for each state-action pair\n",
    "        self.rewards = {}\n",
    "        \n",
    "        # Initialize an empty dictionary to store the optimal policy for each state\n",
    "        self.policy = {}\n",
    "        \n",
    "        # number of iterations to explore\n",
    "        self.explore = 0\n",
    "        \n",
    "        # number of samples\n",
    "        self.samples = 0\n",
    "        \n",
    "    def check_convergence(self):\n",
    "        if self.explore>2000:\n",
    "            for state in self.gridworld.get_states():\n",
    "                if self.V[state] == self.prev_V[state]:\n",
    "                    return True\n",
    "        self.explore +=1\n",
    "        return False\n",
    "\n",
    "    def generate_episode(self):\n",
    "        # Generate an episode, i.e., a sequence of (state, action, reward) tuples, using a random policy\n",
    "        episode = []\n",
    "        \n",
    "        # Reset the environment to a random initial state\n",
    "        self.gridworld.reset()\n",
    "        # print(self.gridworld.state)\n",
    "        state = self.gridworld.get_current_state()\n",
    "\n",
    "        # Iteratively select actions according to a random policy until a terminal state is reached\n",
    "        done = True\n",
    "        while done: \n",
    "            # Get the set of possible actions for the current state\n",
    "            possible_actions = self.gridworld.get_possible_actions(state)\n",
    "            \n",
    "            # Select an action at random\n",
    "            action = np.random.choice(possible_actions)\n",
    "            # print(\"taken action\", action)\n",
    "            \n",
    "            # Take the selected action and observe the reward and next state\n",
    "            reward, next_state = self.gridworld.do_action(action)\n",
    "            self.samples+=1\n",
    "            \n",
    "            # Append the (state, action, reward) tuple to the episode\n",
    "            episode.append((state, action, reward))\n",
    "                        \n",
    "            # Update the current state to the next state\n",
    "            state = next_state\n",
    "            \n",
    "            if action == 'end':\n",
    "                done = False\n",
    "\n",
    "        # Return the episode\n",
    "        return episode\n",
    "\n",
    "    def calculate_rewards(self, episode):\n",
    "        # Compute the rewards for each (state, action) pair in an episode, using the discount factor gamma\n",
    "        G = 0\n",
    "        rewards = {}\n",
    "\n",
    "        # Iterate over the (state, action, reward) tuples in the episode in reverse order\n",
    "        for state, action, reward in reversed(episode):\n",
    "            # Compute the return for the current (state, action) pair\n",
    "            G = self.gamma * G + reward\n",
    "            \n",
    "            # Update the rewards dictionary for the current state by appending the computed return\n",
    "            if state not in rewards:\n",
    "                rewards[state] = []\n",
    "            rewards[state].append(G)\n",
    "\n",
    "        # Return the rewards dictionary\n",
    "        return rewards\n",
    "\n",
    "    def update_value_function(self):\n",
    "        # Update the value function for each state in the Gridworld environment, by computing the mean of the rewards for that state\n",
    "        for state in self.gridworld.get_states():\n",
    "            # If the state has been visited in any episode, update its value function\n",
    "            if state in self.rewards:\n",
    "                # Compute the mean of the rewards for the state and update the corresponding value in the value function V\n",
    "                self.prev_V[state] = self.V[state]\n",
    "                self.V[state] = np.mean(self.rewards[state])\n",
    "\n",
    "    def run(self):\n",
    "        # Run the MCM algorithm for the specified number of episodes.\n",
    "        for i in range(self.num_episodes):\n",
    "            # print(i)\n",
    "            episode = self.generate_episode()\n",
    "            rewards = self.calculate_rewards(episode)\n",
    "            \n",
    "            # Update the rewards dictionary with the computed rewards for each state.\n",
    "            for state in rewards:\n",
    "                if state not in self.rewards:\n",
    "                    self.rewards[state] = []\n",
    "                self.rewards[state].extend(rewards[state])\n",
    "                \n",
    "            # Update the value function using the updated rewards dictionary.\n",
    "            self.update_value_function()\n",
    "            # print(self.V)\n",
    "            if self.check_convergence():\n",
    "                print(\"Convergio en el episodio\",i)\n",
    "                break\n",
    "        \n",
    "        # Compute the policy for each state based on the updated value function.\n",
    "        for state in self.gridworld.get_states():\n",
    "            possible_actions = self.gridworld.get_possible_actions(state)\n",
    "            if len(possible_actions) > 0:\n",
    "                values = []\n",
    "                for action in possible_actions:\n",
    "                    reward, next_state = self.gridworld.get_next_states(state, action)\n",
    "                    value = reward + self.gamma * self.V[next_state]\n",
    "                    values.append(value)\n",
    "                best_action = possible_actions[np.argmax(values)]\n",
    "                self.policy[state] = best_action\n",
    "        \n",
    "        # Return the updated value function and policy.\n",
    "        return self.V, self.policy\n"
   ]
  },
  {
   "cell_type": "code",
   "execution_count": 11,
   "metadata": {},
   "outputs": [
    {
     "data": {
      "image/png": "[encoded data removed]",
      "text/plain": [
       "<Figure size 720x720 with 1 Axes>"
      ]
     },
     "metadata": {
      "needs_background": "light"
     },
     "output_type": "display_data"
    }
   ],
   "source": [
    "board = [\n",
    "    [' ', ' ', ' ', ' ', ' ',' ', ' ', ' ', ' ', ' '],\n",
    "    [' ', ' ', ' ', ' ', ' ',' ', ' ', '*', ' ', ' '],\n",
    "    [' ', ' ', ' ', ' ', ' ',' ', ' ', '*', ' ', ' '],\n",
    "    [' ', ' ', ' ', ' ', ' ',' ', ' ', '*', ' ', ' '],\n",
    "    [' ', ' ', '*', '*', '*','*', '*', '*', ' ', ' '],\n",
    "    [' ', ' ', '-1', ' ', '+1','-1', ' ', ' ', ' ', ' '],\n",
    "    [' ', ' ', '-1', ' ', ' ',' ', ' ', '*', ' ', ' '],\n",
    "    [' ', ' ', ' ', ' ', ' ',' ', ' ', '*', ' ', ' '],\n",
    "    [' ', ' ', ' ', ' ', ' ',' ', ' ', '*', ' ', ' '],\n",
    "    [' ', ' ', ' ', ' ', ' ',' ', ' ', ' ', ' ', ' '],\n",
    "]\n",
    "\n",
    "initial_state = (0, 9)\n",
    "\n",
    "env = Gridworld(board, initial_state)\n",
    "\n",
    "env.plot()"
   ]
  },
  {
   "cell_type": "code",
   "execution_count": 12,
   "metadata": {},
   "outputs": [
    {
     "name": "stdout",
     "output_type": "stream",
     "text": [
      "Convergio en el episodio 2001\n",
      "[[-0.0431712  -0.03135965 -0.02188857 -0.01477023 -0.00980033 -0.00772818\n",
      "  -0.00597794 -0.00660882 -0.01043767 -0.01146952]\n",
      " [-0.05720917 -0.04369936 -0.02916858 -0.01986322 -0.01214005 -0.00837427\n",
      "  -0.00583941  0.         -0.01605246 -0.01519153]\n",
      " [-0.10207927 -0.08731712 -0.04843525 -0.02698794 -0.01489478 -0.00899808\n",
      "  -0.00651505  0.         -0.0263359  -0.02446431]\n",
      " [-0.18809251 -0.18275542 -0.08021146 -0.03829502 -0.01898786 -0.01039491\n",
      "  -0.00797293  0.         -0.04721684 -0.040079  ]\n",
      " [-0.34698307 -0.42939272  0.          0.          0.          0.\n",
      "   0.          0.         -0.08602849 -0.0628711 ]\n",
      " [-0.58205762 -0.93553153 -1.          0.11525882  1.         -1.\n",
      "  -0.91707144 -0.5024952  -0.17539159 -0.09000068]\n",
      " [-0.5941778  -0.97699913 -1.         -0.45671578  0.2953997  -0.55477699\n",
      "  -0.51138328  0.         -0.09220799 -0.06712747]\n",
      " [-0.4165003  -0.57289471 -0.73416149 -0.35605416 -0.04133238 -0.22013557\n",
      "  -0.27869842  0.         -0.0570437  -0.0486105 ]\n",
      " [-0.32062249 -0.33910977 -0.31618445 -0.23334437 -0.1027053  -0.16165274\n",
      "  -0.17661192  0.         -0.0421257  -0.03943535]\n",
      " [-0.26609237 -0.24734699 -0.22662847 -0.18215253 -0.11184801 -0.1076949\n",
      "  -0.09685152 -0.05878258 -0.04106699 -0.0396938 ]]\n",
      "\n",
      "{(0, 0): 'up', (0, 1): 'up', (0, 2): 'up', (0, 3): 'up', (0, 4): 'up', (0, 5): 'up', (0, 6): 'right', (0, 7): 'down', (0, 8): 'down', (0, 9): 'down', (1, 0): 'left', (1, 1): 'up', (1, 2): 'up', (1, 3): 'up', (1, 4): 'up', (1, 5): 'up', (1, 6): 'left', (1, 7): None, (1, 8): 'left', (1, 9): 'left', (2, 0): 'left', (2, 1): 'left', (2, 2): 'up', (2, 3): 'up', (2, 4): 'up', (2, 5): 'up', (2, 6): 'left', (2, 7): None, (2, 8): 'left', (2, 9): 'left', (3, 0): 'left', (3, 1): 'up', (3, 2): 'up', (3, 3): 'up', (3, 4): 'up', (3, 5): 'up', (3, 6): 'left', (3, 7): None, (3, 8): 'left', (3, 9): 'left', (4, 0): 'left', (4, 1): 'left', (4, 2): None, (4, 3): None, (4, 4): None, (4, 5): None, (4, 6): None, (4, 7): None, (4, 8): 'left', (4, 9): 'left', (5, 0): 'left', (5, 1): 'left', (5, 2): 'end', (5, 3): 'up', (5, 4): 'end', (5, 5): 'end', (5, 6): 'up', (5, 7): 'up', (5, 8): 'left', (5, 9): 'left', (6, 0): 'right', (6, 1): 'right', (6, 2): 'end', (6, 3): 'up', (6, 4): 'left', (6, 5): 'down', (6, 6): 'right', (6, 7): None, (6, 8): 'right', (6, 9): 'right', (7, 0): 'right', (7, 1): 'right', (7, 2): 'right', (7, 3): 'up', (7, 4): 'left', (7, 5): 'down', (7, 6): 'right', (7, 7): None, (7, 8): 'right', (7, 9): 'right', (8, 0): 'right', (8, 1): 'right', (8, 2): 'right', (8, 3): 'up', (8, 4): 'left', (8, 5): 'down', (8, 6): 'right', (8, 7): None, (8, 8): 'up', (8, 9): 'right', (9, 0): 'up', (9, 1): 'up', (9, 2): 'up', (9, 3): 'up', (9, 4): 'left', (9, 5): 'up', (9, 6): 'up', (9, 7): 'up', (9, 8): 'up', (9, 9): 'left'}\n"
     ]
    }
   ],
   "source": [
    "mcm = MCM(env, gamma=0.9, num_episodes=2500)\n",
    "V, policy = mcm.run()\n",
    "print(V)\n",
    "print()\n",
    "print(policy)"
   ]
  },
  {
   "cell_type": "code",
   "execution_count": 13,
   "metadata": {},
   "outputs": [
    {
     "data": {
      "image/png": "[encoded data removed]",
      "text/plain": [
       "<Figure size 720x720 with 1 Axes>"
      ]
     },
     "metadata": {
      "needs_background": "light"
     },
     "output_type": "display_data"
    }
   ],
   "source": [
    "env.plot_action(policy, V)"
   ]
  },
  {
   "cell_type": "markdown",
   "metadata": {},
   "source": [
    "**Task 2**\n",
    "\n",
    "Para la implementación de `MCM` responda las siguientes preguntas. Tenga en cuenta que debe ejecutar su agente múltiples veces para poder observar el comportamiento (una sola instancia no nos puede llevar a ninguna conclución).\n",
    "Justifique su respuestas con análisis de la ejejcución y gráficas del comportamiento.\n",
    "1. **¿Cuantas muestras debe tomar el agente? Su implementación no debe utilizar este número como un parámetro o tenerlo como un factor predeterminado del agente.**\n",
    "\n",
    "La cantidad de muestras que el agente debe tomar, se toma como la cantidad de estados en los que toma datos para generar la convergencia, de acuerdo a:\n",
    "\n",
    "<img src=\"img/img1.png\" alt=\"Alternative text\" width = 500 />\n",
    "\n",
    "Esto tiende a variar, pues llega a al rededor de 2000 episodios, que son:"
   ]
  },
  {
   "cell_type": "code",
   "execution_count": 14,
   "metadata": {},
   "outputs": [
    {
     "data": {
      "text/plain": [
       "420765"
      ]
     },
     "execution_count": 14,
     "metadata": {},
     "output_type": "execute_result"
    }
   ],
   "source": [
    "mcm.samples"
   ]
  },
  {
   "cell_type": "markdown",
   "metadata": {},
   "source": [
    "2. **¿Cómo se comparan los valores de `MCM` con respecto a los valores obtenidos en el ejercicio de iteración de valores `value_iteration`? ¿Porqué se da la diferencia si existe alguna, o porqué no existe ninguna diferencia?**\n",
    "\n",
    "El método de Monte Carlo se basa en la simulación de múltiples episodios (o ejecuciones) del problema, donde se realizan elecciones aleatorias para seleccionar acciones y se observan las recompensas obtenidas. Luego, a partir de las estadísticas de las recompensas obtenidas en los episodios simulados, se pueden estimar los valores de las acciones o estados del problema. Por otro lado, el método de iteración de valores se basa en la construcción de una tabla de valores que representa la utilidad esperada de cada estado en el problema. El método utiliza la propiedad de optimalidad de Bellman para actualizar iterativamente los valores de los estados, hasta que convergen a los valores óptimos.\n",
    "\n",
    "Sin embargo, en general, el método de Monte Carlo puede ser más preciso en la estimación de los valores de los estados pero requiere mucho mas tiempo de entrenamiento, ya que se basa en la simulación de múltiples episodios y puede capturar mejor la variabilidad y la incertidumbre del problema. Además, el método de Monte Carlo no requiere conocer el modelo de transición de estados o el mdp como si lo requiere el `value_iteration`, lo que puede ser útil en situaciones donde el modelo es desconocido o complejo de especificar.\n",
    "\n",
    "Por otro lado, el método de iteración de valores puede ser más eficiente en términos computacionales, ya que solo requiere actualizar la tabla de valores en cada iteración, en lugar de realizar simulaciones de episodios completos. Además, el método de iteración de valores puede ser más fácil de implementar y entender para problemas simples. Y para el caso especifico de este ejercicio, tiende a ser mejor por su rapidez.\n",
    "\n",
    "3. **¿Cómo se compara la política obtenida utilizando `MCM` con respecto a la política obtenida en el ejercicio de iteración de políticas `policy_iteration`? ¿Porqué se da la diferencia si existe alguna, o porqué no existe ninguna diferencia?**\n",
    "\n",
    "El método de Monte Carlo, como se dijo anteriormente, se basa en la simulación de múltiples episodios (o ejecuciones) del problema, donde se realizan elecciones aleatorias para seleccionar acciones y se observan las recompensas obtenidas. Por otro lado, el método de iteración de políticas se basa en la construcción iterativa de una política que maximice los valores de los estados en el problema. En cada iteración, se evalúa la política actual para obtener una tabla de valores, y luego se mejora la política al seleccionar acciones que maximicen los valores de los estados, utilizando la propiedad de optimalidad de Bellman.\n",
    "\n",
    "La política obtenida mediante el método de Monte Carlo puede ser más precisa en situaciones donde el modelo del problema es desconocido o complejo, ya que no se requiere conocer el modelo de transición de estados para estimar los valores de los estados y la política óptima. Además, el método de Monte Carlo puede ser más adecuado para problemas con estados continuos o grandes, ya que no requiere construir una tabla de valores explícita.\n",
    "\n",
    "Por otro lado, el método de iteración de políticas puede ser más eficiente en términos computacionales, ya que converge más rápidamente que el método de Monte Carlo, especialmente para problemas con pocos estados y acciones. Además, el método de iteración de políticas proporciona una política óptima explícita, mientras que el método de Monte Carlo solo proporciona una estimación de la política óptima.\n",
    "\n",
    "4. **¿Cuál es el efecto de del factor de descuento sobre el método de Monte Carlo, calcule la solución de Gridworld con diferentes valores?**\n",
    "\n",
    "El factor de descuento es un parámetro que se utiliza en los algoritmos de aprendizaje por refuerzo, incluyendo el método de Monte Carlo, para determinar la importancia relativa de las recompensas a corto y largo plazo. El factor de descuento se denota por gamma (γ) y tiene un valor entre 0 y 1, donde un valor cercano a 0 significa que las recompensas a largo plazo tienen poco peso, mientras que un valor cercano a 1 significa que las recompensas a largo plazo tienen un mayor peso en la toma de decisiones.\n",
    "\n",
    "El efecto del factor de descuento sobre el método de Monte Carlo es que puede influir en la convergencia y la estabilidad del algoritmo. Un factor de descuento alto (cerca de 1) significa que se le da más importancia a las recompensas a largo plazo, lo que puede hacer que el algoritmo sea más lento para converger, ya que las recompensas a largo plazo son más inciertas. Por otro lado, un factor de descuento bajo (cerca de 0) significa que se le da menos importancia a las recompensas a largo plazo, lo que puede hacer que el algoritmo converja más rápido, pero también puede llevar a una política subóptima que no tenga en cuenta las recompensas a largo plazo.\n",
    "\n",
    "En general, el factor de descuento adecuado dependerá del problema en particular y de la preferencia del agente en cuanto a la importancia de las recompensas a corto y largo plazo. Un valor de gamma comúnmente utilizado es 0.9, lo que significa que las recompensas a largo plazo tienen un peso significativo en la toma de decisiones, pero también se tienen en cuenta las recompensas a corto plazo. Sin embargo, es importante probar diferentes valores de gamma para determinar el valor óptimo para cada problema en particular.\n",
    "\n",
    "Para el caso especifico de gridworld, el algoritmo converge más rapido con 0.1 (entre mas pequeño el gama), pero los valores tan exactos, mientras que entre mas grande, los valores son mas exactos."
   ]
  },
  {
   "cell_type": "code",
   "execution_count": 15,
   "metadata": {},
   "outputs": [
    {
     "name": "stdout",
     "output_type": "stream",
     "text": [
      "Valor de descuento 0.1\n",
      "Convergio en el episodio 2001\n",
      "Tiempo de duracion en ejecutar el algorimo 35.18979597091675\n"
     ]
    },
    {
     "data": {
      "image/png": "[encoded data removed]",
      "text/plain": [
       "<Figure size 720x720 with 1 Axes>"
      ]
     },
     "metadata": {
      "needs_background": "light"
     },
     "output_type": "display_data"
    }
   ],
   "source": [
    "print(\"Valor de descuento 0.1\")\n",
    "inicio = time.time()\n",
    "mcm = MCM(env, gamma=0.1, num_episodes=2500)\n",
    "V, policy = mcm.run()\n",
    "fin = time.time()\n",
    "print(\"Tiempo de duracion en ejecutar el algorimo\", fin-inicio)\n",
    "env.plot_action(policy, V)"
   ]
  },
  {
   "cell_type": "code",
   "execution_count": 16,
   "metadata": {},
   "outputs": [
    {
     "name": "stdout",
     "output_type": "stream",
     "text": [
      "Valor de descuento 0.9\n",
      "Convergio en el episodio 2001\n",
      "Tiempo de duracion en ejecutar el algorimo 36.12997317314148\n"
     ]
    },
    {
     "data": {
      "image/png": "[encoded data removed]",
      "text/plain": [
       "<Figure size 720x720 with 1 Axes>"
      ]
     },
     "metadata": {
      "needs_background": "light"
     },
     "output_type": "display_data"
    }
   ],
   "source": [
    "print(\"Valor de descuento 0.9\")\n",
    "inicio = time.time()\n",
    "mcm = MCM(env, gamma=0.9, num_episodes=2500)\n",
    "V, policy = mcm.run()\n",
    "fin = time.time()\n",
    "print(\"Tiempo de duracion en ejecutar el algorimo\", fin-inicio)\n",
    "env.plot_action(policy, V)"
   ]
  }
 ],
 "metadata": {
  "kernelspec": {
   "display_name": "Python 3 (ipykernel)",
   "language": "python",
   "name": "python3"
  },
  "language_info": {
   "codemirror_mode": {
    "name": "ipython",
    "version": 3
   },
   "file_extension": ".py",
   "mimetype": "text/x-python",
   "name": "python",
   "nbconvert_exporter": "python",
   "pygments_lexer": "ipython3",
   "version": "3.9.7"
  },
  "vscode": {
   "interpreter": {
    "hash": "31f2aee4e71d21fbe5cf8b01ff0e069b9275f58929596ceb00d14d90e3e16cd6"
   }
  }
 },
 "nbformat": 4,
 "nbformat_minor": 4
}
