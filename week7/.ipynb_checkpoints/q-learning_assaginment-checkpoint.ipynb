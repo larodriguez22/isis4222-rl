{
 "cells": [
  {
   "cell_type": "markdown",
   "metadata": {},
   "source": [
    "# Algorítmo de Q-Learning\n",
    "\n",
    "En este ejercicio vamos a probar el algorítmo de Q-learning como un representatnte de los métodos off-policy. Nuestro objetivo, es evaluar el algoritmo sobre distintos ambientes. Para cada uno de los ambientes deben ejecutar un agente de Q-learning en el ambiente, evaluar su ejecución y validar la efectividad del aprendizaje del agente entrenado sobre el ambiente.\n"
   ]
  },
  {
   "cell_type": "code",
   "execution_count": 62,
   "metadata": {},
   "outputs": [],
   "source": [
    "import matplotlib.pyplot as plt\n",
    "import numpy as np\n",
    "import matplotlib.patches as patches\n",
    "import time\n",
    "import random\n",
    "import copy\n",
    "\n",
    "class Gridworld:\n",
    "    def __init__(self, board, initial_state = (0,0), walls = None):\n",
    "        self.nrows, self.ncols = len(board),len(board[0])\n",
    "        self.grid = np.zeros((self.nrows, self.ncols))\n",
    "        self.colors = np.zeros((self.nrows, self.ncols))\n",
    "        self.is_terminal = False\n",
    "        self.walls = walls\n",
    "        \n",
    "        for i in range(len(board)):\n",
    "            for j in range(len(board[0])):\n",
    "                if board[i][j] == \"*\":\n",
    "                    self.grid[i][j] = -2\n",
    "                elif board[i][j] == \"+1\":\n",
    "                    self.grid[i][j] = 1\n",
    "                elif board[i][j] == \"+100\":\n",
    "                    self.grid[i][j] = 100\n",
    "                elif board[i][j] == \"-1\":\n",
    "                    self.grid[i][j] = -1\n",
    "                elif board[i][j] == \"-100\":\n",
    "                    self.grid[i][j] = -100\n",
    "                elif board[i][j] == \"R\":\n",
    "                    self.colors[i][j] = 3\n",
    "                elif board[i][j] == \"G\":\n",
    "                    self.colors[i][j] = 4\n",
    "                elif board[i][j] == \"B\":\n",
    "                    self.colors[i][j] = 5\n",
    "                elif board[i][j] == \"Y\":\n",
    "                    self.colors[i][j] = 6\n",
    "        # self.grid[-1, -1] = 1  # set the final state to have a reward of 1\n",
    "        # print(\"grid despues\",self.grid)\n",
    "        self.initial_state = initial_state\n",
    "        self.state = initial_state\n",
    "        \n",
    "    def get_states(self):\n",
    "        return [(i, j) for i in range(len(self.grid)) for j in range(len(self.grid[0]))]\n",
    "\n",
    "    def get_current_state(self):\n",
    "        return self.state\n",
    "\n",
    "    def get_possible_actions(self, state):\n",
    "        i, j = state\n",
    "        actions = []\n",
    "        if self.grid[state]==0 or self.grid[state]==-1:\n",
    "            if j > 0 and self.grid[i][j-1] != -2:\n",
    "                actions.append('down')\n",
    "            if j < self.ncols - 1 and self.grid[i][j+1] != -2:\n",
    "                actions.append('up')\n",
    "            if i > 0 and self.grid[i-1][j] != -2 and (self.walls == None or self.walls[i-1][j] != \"l\"):\n",
    "                actions.append('left')\n",
    "            if i < self.nrows - 1 and self.grid[i+1][j] != -2 and (self.walls == None or self.walls[i+1][j] != \"r\"):\n",
    "                actions.append('right')\n",
    "        elif self.grid[state] != -2:\n",
    "            actions.append(\"end\")\n",
    "        elif self.grid[state] == -2:\n",
    "            return [None]\n",
    "        return actions\n",
    "    \n",
    "    def get_next_states(self, state, action):\n",
    "        i, j = state\n",
    "        reward = 0\n",
    "        if action == 'left' :\n",
    "            i -= 1\n",
    "        elif action == 'right':\n",
    "            i += 1\n",
    "        elif action == 'down':\n",
    "            j -= 1\n",
    "        elif action == 'up':\n",
    "            j += 1\n",
    "        elif action == 'end':\n",
    "            reward = self.grid[i, j]\n",
    "        self.state = (i, j)\n",
    "        return reward, self.state\n",
    "\n",
    "    def do_action(self, action):\n",
    "        i, j = self.state\n",
    "        reward = 0\n",
    "        done = False\n",
    "        if action == 'left' :\n",
    "            i -= 1\n",
    "        elif action == 'right':\n",
    "            i += 1\n",
    "        elif action == 'down':\n",
    "            j -= 1\n",
    "        elif action == 'up':\n",
    "            j += 1\n",
    "        elif action == 'end':\n",
    "            reward = self.grid[i, j]\n",
    "            done = True\n",
    "            \n",
    "        self.state = (i, j)\n",
    "        return reward, self.state, done\n",
    "\n",
    "    def reset(self):\n",
    "        self.state = self.initial_state\n",
    "\n",
    "    def is_terminal(self):\n",
    "        return self.grid[self.state] == 1\n",
    "    \n",
    "    def plot(self):\n",
    "        fig1 = plt.figure(figsize=(10, 10))\n",
    "        ax1 = fig1.add_subplot(111, aspect='equal')\n",
    "        \n",
    "        # Lineas\n",
    "        for i in range(0, len(self.grid)+1):\n",
    "            ax1.axvline(i , linewidth=2, color=\"#2D2D33\")\n",
    "        for j in range(0, len(self.grid[0])+1):\n",
    "            ax1.axhline(j , linewidth=2, color=\"#2D2D33\")\n",
    "        \n",
    "        # Amarillo - inicio\n",
    "        ax1.add_patch(patches.Rectangle(self.initial_state, 1, 1, facecolor = \"#F6D924\"))\n",
    "        for i in range(len(self.grid)):\n",
    "            for j in range(len(self.grid[0])):\n",
    "                if self.grid[i][j] == 1 or self.grid[i][j] == 100 or self.colors[i][j] == 4: # verde\n",
    "                    ax1.add_patch(patches.Rectangle((i,j), 1, 1, facecolor = \"#68FF33\"))\n",
    "                if self.grid[i][j] == -2: # gris\n",
    "                    ax1.add_patch(patches.Rectangle((i,j), 1, 1, facecolor = \"#6c7780\"))\n",
    "                if self.colors[i][j] == 6: # amarillo\n",
    "                    ax1.add_patch(patches.Rectangle((i,j), 1, 1, facecolor = \"#F6D924\"))\n",
    "                if self.colors[i][j] == 5: # amarillo\n",
    "                    ax1.add_patch(patches.Rectangle((i,j), 1, 1, facecolor = \"blue\"))\n",
    "                if self.grid[i][j] == -1 or self.grid[i][j] == -100 or self.colors[i][j] == 3: # rojo\n",
    "                    ax1.add_patch(patches.Rectangle((i,j), 1, 1, facecolor = \"#cc0000\"))\n",
    "                if self.walls!= None and self.walls[i][j] == \"r\":\n",
    "                    ax1.add_patch(patches.Rectangle((i+0.9,j), 0.1, 1, facecolor = \"#6c7780\"))\n",
    "                if self.walls!= None and self.walls[i][j] == \"l\":\n",
    "                    ax1.add_patch(patches.Rectangle((i,j), 0.1, 1, facecolor = \"#6c7780\"))\n",
    "                \n",
    "        plt.scatter(self.state[0] + 0.5, self.state[1] +0.5, s = 100, color = \"black\", marker = \"o\", facecolor = \"blue\", edgecolors = \"blue\", zorder = 10)\n",
    "        for i in range(len(self.grid)):\n",
    "            for j in range(len(self.grid[0])):\n",
    "                if self.grid[i, j] == -2:\n",
    "                    ax1.text(i+0.5, j+0.5, \"*\", ha='center', va='center')\n",
    "                elif self.colors[i, j] == 3:\n",
    "                    ax1.text(i+0.5, j+0.5, \"R\", ha='center', va='center')\n",
    "                elif self.colors[i, j] == 4:\n",
    "                    ax1.text(i+0.5, j+0.5, \"G\", ha='center', va='center')\n",
    "                elif self.colors[i, j] == 5:\n",
    "                    ax1.text(i+0.5, j+0.5, \"B\", ha='center', va='center')\n",
    "                elif self.colors[i, j] == 6:\n",
    "                    ax1.text(i+0.5, j+0.5, \"Y\", ha='center', va='center')\n",
    "                else:\n",
    "                    ax1.text(i+0.5, j+0.5, self.grid[i, j], ha='center', va='center')\n",
    "        plt.axis(\"off\")\n",
    "        plt.show()\n",
    "        \n",
    "    def get_action_test(self, action):\n",
    "        if action=='left':\n",
    "            return '<'\n",
    "        if action=='right':\n",
    "            return '>'\n",
    "        if action=='up':\n",
    "            return '^'\n",
    "        if action=='down':\n",
    "            return 'v'\n",
    "        if action=='exit':\n",
    "            return 'x'\n",
    "        \n",
    "    def plot_action(self, actions, values):\n",
    "        fig1 = plt.figure(figsize=(10, 10))\n",
    "        ax1 = fig1.add_subplot(111, aspect='equal')\n",
    "        \n",
    "        # Lineas\n",
    "        for i in range(0, len(self.grid)+1):\n",
    "            ax1.axvline(i , linewidth=2, color=\"#2D2D33\")\n",
    "        for j in range(0, len(self.grid[0])+1):\n",
    "            ax1.axhline(j , linewidth=2, color=\"#2D2D33\")\n",
    "        \n",
    "        # Amarillo - inicio\n",
    "        ax1.add_patch(patches.Rectangle(self.initial_state, 1, 1, facecolor = \"#F6D924\"))\n",
    "        for i in range(len(self.grid)):\n",
    "            for j in range(len(self.grid[0])):\n",
    "                if self.grid[i][j] == 1 or self.grid[i][j] == 100 or self.colors[i][j] == 4: # verde\n",
    "                    ax1.add_patch(patches.Rectangle((i,j), 1, 1, facecolor = \"#68FF33\"))\n",
    "                if self.grid[i][j] == -2: # gris\n",
    "                    ax1.add_patch(patches.Rectangle((i,j), 1, 1, facecolor = \"#6c7780\"))\n",
    "                if self.colors[i][j] == 6: # amarillo\n",
    "                    ax1.add_patch(patches.Rectangle((i,j), 1, 1, facecolor = \"#F6D924\"))\n",
    "                if self.colors[i][j] == 5: # amarillo\n",
    "                    ax1.add_patch(patches.Rectangle((i,j), 1, 1, facecolor = \"blue\"))\n",
    "                if self.grid[i][j] == -1 or self.grid[i][j] == -100 or self.colors[i][j] == 3: # rojo\n",
    "                    ax1.add_patch(patches.Rectangle((i,j), 1, 1, facecolor = \"#cc0000\"))\n",
    "                if self.walls!= None and self.walls[i][j] == \"r\":\n",
    "                    ax1.add_patch(patches.Rectangle((i+0.9,j), 0.1, 1, facecolor = \"#6c7780\"))\n",
    "                if self.walls!= None and self.walls[i][j] == \"l\":\n",
    "                    ax1.add_patch(patches.Rectangle((i,j), 0.1, 1, facecolor = \"#6c7780\"))\n",
    "        self.reset()\n",
    "        plt.scatter(self.state[0] + 0.5, self.state[1] +0.5, s = 100, color = \"black\", marker = \"o\", facecolor = \"blue\", edgecolors = \"blue\", zorder = 10)\n",
    "        \n",
    "        for i in range(len(self.grid)):\n",
    "            for j in range(len(self.grid[0])):\n",
    "                if self.grid[i, j] == -2:\n",
    "                    ax1.text(i+0.5, j+0.5, \"*\", ha='center', va='center')\n",
    "                elif self.colors[i, j] == 3:\n",
    "                    ax1.text(i+0.5, j+0.5, \"R\", ha='center', va='center')\n",
    "                elif self.colors[i, j] == 4:\n",
    "                    ax1.text(i+0.5, j+0.5, \"G\", ha='center', va='center')\n",
    "                elif self.colors[i, j] == 5:\n",
    "                    ax1.text(i+0.5, j+0.5, \"B\", ha='center', va='center')\n",
    "                elif self.colors[i, j] == 6:\n",
    "                    ax1.text(i+0.5, j+0.5, \"Y\", ha='center', va='center')\n",
    "                else:\n",
    "                    try:\n",
    "                        ax1.text(i+0.5, j+0.75, round(values[i, j],2), ha='center', va='center')\n",
    "                        text2=self.get_action_test(actions[(i,j)])\n",
    "                        ax1.text(i+0.5, j+0.25, text2, ha='center', va='center')\n",
    "                    except:\n",
    "                        ax1.text(i+0.5, j+0.75, 0, ha='center', va='center')\n",
    "                        ax1.text(i+0.5, j+0.25, \"None\", ha='center', va='center')\n",
    "        plt.axis(\"off\")\n",
    "        plt.show()\n",
    "        "
   ]
  },
  {
   "cell_type": "code",
   "execution_count": 112,
   "metadata": {},
   "outputs": [],
   "source": [
    "class Learner:\n",
    "    def __init__(self, env, alpha=0.1, gamma=0.6, epsilon=0.1, episodes=1000):\n",
    "        #hyper parameters\n",
    "        self.alpha = alpha\n",
    "        self.gamma = gamma\n",
    "        self.epsilon = epsilon\n",
    "        self.environment = env\n",
    "        # self.agent = agent          #actual agent\n",
    "        self.qtable = self.__initdic__() #rewards table\n",
    "        self.episodes = episodes\n",
    "    \n",
    "    def __initdic__(self):\n",
    "        table = dict()\n",
    "        # for i in range(0, self.environment.end()):\n",
    "        #     table[i] = np.zeros(len(self.env.get_possible_actions))\n",
    "            \n",
    "        # Initialize Q table with 0 for each state-action pair\n",
    "        for state in self.environment.get_states():\n",
    "            table[state] = np.zeros(len(self.environment.get_possible_actions(state)))\n",
    "            # for action in self.environment.get_possible_actions(state):\n",
    "            #     # table[(state, action)] = 0\n",
    "            #     table[state] = np.zeros(len(self.environment.get_possible_actions))\n",
    "        print(table)\n",
    "        # print(table[0,1])\n",
    "        return table\n",
    "\n",
    "    def run(self):\n",
    "        done = False\n",
    "        contador = 0\n",
    "        for i in range(self.episodes):\n",
    "            done = False\n",
    "            while not done:\n",
    "                current_state = copy.deepcopy(self.environment.state)\n",
    "                if random.uniform(0,1) < self.epsilon:\n",
    "                    action = self.randomAction(current_state)\n",
    "                else:\n",
    "                    action = np.argmax(self.qtable[current_state]) \n",
    "                next_state, reward, done, info = self.step(action)\n",
    "                old_value = self.qtable[current_state][action]\n",
    "                next_max = np.max(self.qtable[next_state])\n",
    "                new_value = (1 - self.alpha)*old_value + self.alpha*(reward + self.gamma*next_max)\n",
    "                self.qtable[current_state][action] = new_value\n",
    "                contador += 1\n",
    "                # print(info)\n",
    "                # print(f'{current_state}, {action}, {next_state}')\n",
    "                # print(\"value\", new_value)\n",
    "            self.environment.reset()\n",
    "            # print(\"----------------\")\n",
    "        print(contador)\n",
    "        return self.qtable\n",
    "\n",
    "    def randomAction(self, current_state):\n",
    "        return random.randint(0,len(self.environment.get_possible_actions(current_state))-1)\n",
    "\n",
    "    def step(self, action):\n",
    "        old_state = copy.deepcopy(self.environment.state)\n",
    "        reward, new_state, done = self.environment.do_action(self.environment.get_possible_actions(old_state)[action])\n",
    "        # print(old_state,\"->\",new_state, \":\", action)\n",
    "        # self.env.action(action)\n",
    "        next_state = copy.deepcopy(self.environment.state)\n",
    "        info = f'Executed action: {action} at state {old_state}'\n",
    "        return next_state, reward, done, info\n",
    "    \n",
    "    def actions_values(self):\n",
    "        actions = {}\n",
    "        self.environment.reset()\n",
    "        values = np.zeros_like(self.environment.grid)\n",
    "        for state in self.environment.get_states():\n",
    "            action = np.argmax(self.qtable[state]) \n",
    "            actions[state] = self.environment.get_possible_actions(state)[action]\n",
    "            values[state] = np.max(self.qtable[state])\n",
    "        return actions, values"
   ]
  },
  {
   "cell_type": "markdown",
   "metadata": {},
   "source": [
    "## Gridworld\n",
    "\n",
    "Sobre el ambiente de Gridworld que hemos venido utilizando, ejecute el algoritmo de Q-learning. Debe ejecutar el algoritmo hasta su convergencia y entregar tanto la política resultado y la Q-tabla.\n"
   ]
  },
  {
   "cell_type": "code",
   "execution_count": 113,
   "metadata": {},
   "outputs": [
    {
     "data": {
      "image/png": "[encoded data removed]",
      "text/plain": [
       "<Figure size 720x720 with 1 Axes>"
      ]
     },
     "metadata": {
      "needs_background": "light"
     },
     "output_type": "display_data"
    }
   ],
   "source": [
    "board = [\n",
    "    [' ', ' ', ' ', ' ', ' ',' ', ' ', ' ', ' ', ' '],\n",
    "    [' ', ' ', ' ', ' ', ' ',' ', ' ', '*', ' ', ' '],\n",
    "    [' ', ' ', ' ', ' ', ' ',' ', ' ', '*', ' ', ' '],\n",
    "    [' ', ' ', ' ', ' ', ' ',' ', ' ', '*', ' ', ' '],\n",
    "    [' ', ' ', '*', '*', '*','*', '*', '*', ' ', ' '],\n",
    "    [' ', ' ', '-1', ' ', '+1','-1', ' ', ' ', ' ', ' '],\n",
    "    [' ', ' ', '-1', ' ', ' ',' ', ' ', '*', ' ', ' '],\n",
    "    [' ', ' ', ' ', ' ', ' ',' ', ' ', '*', ' ', ' '],\n",
    "    [' ', ' ', ' ', ' ', ' ',' ', ' ', '*', ' ', ' '],\n",
    "    [' ', ' ', ' ', ' ', ' ',' ', ' ', ' ', ' ', ' '],\n",
    "]\n",
    "\n",
    "initial_state = (0, 9)\n",
    "\n",
    "env1 = Gridworld(board, initial_state)\n",
    "\n",
    "env1.plot()"
   ]
  },
  {
   "cell_type": "code",
   "execution_count": 114,
   "metadata": {},
   "outputs": [
    {
     "name": "stdout",
     "output_type": "stream",
     "text": [
      "{(0, 0): array([0., 0.]), (0, 1): array([0., 0., 0.]), (0, 2): array([0., 0., 0.]), (0, 3): array([0., 0., 0.]), (0, 4): array([0., 0., 0.]), (0, 5): array([0., 0., 0.]), (0, 6): array([0., 0., 0.]), (0, 7): array([0., 0.]), (0, 8): array([0., 0., 0.]), (0, 9): array([0., 0.]), (1, 0): array([0., 0., 0.]), (1, 1): array([0., 0., 0., 0.]), (1, 2): array([0., 0., 0., 0.]), (1, 3): array([0., 0., 0., 0.]), (1, 4): array([0., 0., 0., 0.]), (1, 5): array([0., 0., 0., 0.]), (1, 6): array([0., 0., 0.]), (1, 7): array([0.]), (1, 8): array([0., 0., 0.]), (1, 9): array([0., 0., 0.]), (2, 0): array([0., 0., 0.]), (2, 1): array([0., 0., 0., 0.]), (2, 2): array([0., 0., 0., 0.]), (2, 3): array([0., 0., 0., 0.]), (2, 4): array([0., 0., 0., 0.]), (2, 5): array([0., 0., 0., 0.]), (2, 6): array([0., 0., 0.]), (2, 7): array([0.]), (2, 8): array([0., 0., 0.]), (2, 9): array([0., 0., 0.]), (3, 0): array([0., 0., 0.]), (3, 1): array([0., 0., 0., 0.]), (3, 2): array([0., 0., 0.]), (3, 3): array([0., 0., 0.]), (3, 4): array([0., 0., 0.]), (3, 5): array([0., 0., 0.]), (3, 6): array([0., 0.]), (3, 7): array([0.]), (3, 8): array([0., 0., 0.]), (3, 9): array([0., 0., 0.]), (4, 0): array([0., 0., 0.]), (4, 1): array([0., 0., 0.]), (4, 2): array([0.]), (4, 3): array([0.]), (4, 4): array([0.]), (4, 5): array([0.]), (4, 6): array([0.]), (4, 7): array([0.]), (4, 8): array([0., 0., 0.]), (4, 9): array([0., 0., 0.]), (5, 0): array([0., 0., 0.]), (5, 1): array([0., 0., 0., 0.]), (5, 2): array([0., 0., 0.]), (5, 3): array([0., 0., 0.]), (5, 4): array([0.]), (5, 5): array([0., 0., 0.]), (5, 6): array([0., 0., 0.]), (5, 7): array([0., 0.]), (5, 8): array([0., 0., 0., 0.]), (5, 9): array([0., 0., 0.]), (6, 0): array([0., 0., 0.]), (6, 1): array([0., 0., 0., 0.]), (6, 2): array([0., 0., 0., 0.]), (6, 3): array([0., 0., 0., 0.]), (6, 4): array([0., 0., 0., 0.]), (6, 5): array([0., 0., 0., 0.]), (6, 6): array([0., 0., 0.]), (6, 7): array([0.]), (6, 8): array([0., 0., 0.]), (6, 9): array([0., 0., 0.]), (7, 0): array([0., 0., 0.]), (7, 1): array([0., 0., 0., 0.]), (7, 2): array([0., 0., 0., 0.]), (7, 3): array([0., 0., 0., 0.]), (7, 4): array([0., 0., 0., 0.]), (7, 5): array([0., 0., 0., 0.]), (7, 6): array([0., 0., 0.]), (7, 7): array([0.]), (7, 8): array([0., 0., 0.]), (7, 9): array([0., 0., 0.]), (8, 0): array([0., 0., 0.]), (8, 1): array([0., 0., 0., 0.]), (8, 2): array([0., 0., 0., 0.]), (8, 3): array([0., 0., 0., 0.]), (8, 4): array([0., 0., 0., 0.]), (8, 5): array([0., 0., 0., 0.]), (8, 6): array([0., 0., 0.]), (8, 7): array([0.]), (8, 8): array([0., 0., 0.]), (8, 9): array([0., 0., 0.]), (9, 0): array([0., 0.]), (9, 1): array([0., 0., 0.]), (9, 2): array([0., 0., 0.]), (9, 3): array([0., 0., 0.]), (9, 4): array([0., 0., 0.]), (9, 5): array([0., 0., 0.]), (9, 6): array([0., 0., 0.]), (9, 7): array([0., 0.]), (9, 8): array([0., 0., 0.]), (9, 9): array([0., 0.])}\n"
     ]
    }
   ],
   "source": [
    "learner1 = Learner(env1, alpha=0.1, gamma=0.9, epsilon=0.9)"
   ]
  },
  {
   "cell_type": "code",
   "execution_count": 115,
   "metadata": {},
   "outputs": [
    {
     "name": "stdout",
     "output_type": "stream",
     "text": [
      "129844\n"
     ]
    },
    {
     "data": {
      "text/plain": [
       "{(0, 0): array([3.86514774, 3.86914707]),\n",
       " (0, 1): array([3.47725476, 3.47664808, 4.30115486]),\n",
       " (0, 2): array([3.86604024, 3.12618043, 3.86995217]),\n",
       " (0, 3): array([3.47740537, 2.78903062, 3.48167554]),\n",
       " (0, 4): array([3.12596277, 2.54115715, 3.12612327]),\n",
       " (0, 5): array([2.80877438, 2.82388581, 2.81531231]),\n",
       " (0, 6): array([2.54142239, 3.13773823, 2.54138153]),\n",
       " (0, 7): array([2.82393931, 3.48643874]),\n",
       " (0, 8): array([3.13776854, 3.1377825 , 3.87385664]),\n",
       " (0, 9): array([3.486448  , 3.48644473]),\n",
       " (1, 0): array([4.30155419, 3.47432789, 4.3001213 ]),\n",
       " (1, 1): array([3.86841979, 3.87021801, 3.86883582, 4.78041993]),\n",
       " (1, 2): array([4.30107652, 3.48007432, 3.48102426, 4.30183381]),\n",
       " (1, 3): array([3.87077398, 3.13091686, 3.124669  , 3.87027725]),\n",
       " (1, 4): array([3.48119332, 2.80288482, 2.80628361, 3.4818589 ]),\n",
       " (1, 5): array([3.12740343, 2.54106207, 2.54123277, 3.13248339]),\n",
       " (1, 6): array([2.81339602, 2.82386357, 2.81635135]),\n",
       " (1, 7): array([0.]),\n",
       " (1, 8): array([3.48645467, 3.48644524, 4.30431143]),\n",
       " (1, 9): array([3.87384691, 3.13778496, 3.87386144]),\n",
       " (2, 0): array([4.78038877, 3.8689624 , 4.77902527]),\n",
       " (2, 1): array([4.3014282 , 4.30198798, 4.30148406, 5.31221062]),\n",
       " (2, 2): array([4.78058877, 3.87073167, 3.87092106, 4.78028537]),\n",
       " (2, 3): array([4.30184102, 3.48264511, 3.48182804, 4.30054095]),\n",
       " (2, 4): array([3.87106172, 3.13281275, 3.13068706, 3.86872922]),\n",
       " (2, 5): array([3.48293417, 2.8153786 , 2.81089668, 3.48016975]),\n",
       " (2, 6): array([3.13298778, 2.54130914, 3.11702017]),\n",
       " (2, 7): array([0.]),\n",
       " (2, 8): array([3.87384577, 3.87385773, 4.78259734]),\n",
       " (2, 9): array([4.30431411, 3.48645156, 4.30430283]),\n",
       " (3, 0): array([5.31156347, 4.30018643, 5.3117554 ]),\n",
       " (3, 1): array([4.77982961, 4.78041326, 4.78017443, 5.90284934]),\n",
       " (3, 2): array([5.31217535, 4.30108669, 4.30187602]),\n",
       " (3, 3): array([4.78022205, 3.86848642, 3.87044182]),\n",
       " (3, 4): array([4.30103098, 3.47848912, 3.47986457]),\n",
       " (3, 5): array([3.86884466, 3.12440829, 3.13191809]),\n",
       " (3, 6): array([3.47744168, 2.81382007]),\n",
       " (3, 7): array([0.]),\n",
       " (3, 8): array([4.30430695, 4.30430608, 5.31401432]),\n",
       " (3, 9): array([4.78258826, 3.87384898, 4.78257464]),\n",
       " (4, 0): array([5.9028083 , 4.7790645 , 5.90085272]),\n",
       " (4, 1): array([5.31161946, 5.31166949, 6.55929701]),\n",
       " (4, 2): array([0.]),\n",
       " (4, 3): array([0.]),\n",
       " (4, 4): array([0.]),\n",
       " (4, 5): array([0.]),\n",
       " (4, 6): array([0.]),\n",
       " (4, 7): array([0.]),\n",
       " (4, 8): array([4.78257303, 4.78258567, 5.90448231]),\n",
       " (4, 9): array([5.31399607, 4.30429259, 5.31400137]),\n",
       " (5, 0): array([6.5587145 , 5.31107385, 5.30741593]),\n",
       " (5, 1): array([5.90140826, 7.28852948, 5.90187313, 5.90005205]),\n",
       " (5, 2): array([6.55823994, 8.09875187, 6.55798766]),\n",
       " (5, 3): array([7.28632358, 8.99894569, 7.28698398]),\n",
       " (5, 4): array([9.99956829]),\n",
       " (5, 5): array([8.99955399, 7.28942397, 7.28922844]),\n",
       " (5, 6): array([8.09953868, 6.56054443, 6.56032035]),\n",
       " (5, 7): array([7.28955239, 5.90446165]),\n",
       " (5, 8): array([6.5605649 , 5.31400062, 5.31399591, 5.31398923]),\n",
       " (5, 9): array([5.90447852, 4.78257875, 4.78256268]),\n",
       " (6, 0): array([5.89605729, 5.9007914 , 4.74392726]),\n",
       " (6, 1): array([5.29624424, 6.55231505, 6.55808858, 5.3040955 ]),\n",
       " (6, 2): array([5.89630222, 7.28834628, 7.28766701, 5.89534628]),\n",
       " (6, 3): array([6.55727536, 8.09901692, 8.09799203, 6.55766644]),\n",
       " (6, 4): array([7.28748508, 7.28853038, 8.99936637, 7.28742728]),\n",
       " (6, 5): array([8.09903197, 6.56021946, 8.09942416, 6.56005506]),\n",
       " (6, 6): array([7.28919301, 7.28936603, 5.90400084]),\n",
       " (6, 7): array([0.]),\n",
       " (6, 8): array([4.78255616, 5.90446735, 4.78250536]),\n",
       " (6, 9): array([5.31396771, 5.31398843, 4.30425933]),\n",
       " (7, 0): array([5.30183273, 5.29839217, 4.10075102]),\n",
       " (7, 1): array([4.75560289, 5.90076707, 5.89323891, 4.7232543 ]),\n",
       " (7, 2): array([5.30618923, 6.55758522, 6.5550228 , 5.2841753 ]),\n",
       " (7, 3): array([5.89743639, 7.28763429, 7.28835736, 5.8990611 ]),\n",
       " (7, 4): array([6.55667632, 6.55941113, 8.0989565 , 6.55750233]),\n",
       " (7, 5): array([7.28810307, 5.90378   , 7.28928415, 5.90260377]),\n",
       " (7, 6): array([6.55979484, 6.56015007, 5.31311109]),\n",
       " (7, 7): array([0.]),\n",
       " (7, 8): array([4.30423676, 5.31395824, 4.30420862]),\n",
       " (7, 9): array([4.78252155, 4.7825456 , 3.87376396]),\n",
       " (8, 0): array([4.6410385 , 4.69713439, 3.14909725]),\n",
       " (8, 1): array([3.98936851, 5.20654739, 5.30282763, 3.97310018]),\n",
       " (8, 2): array([4.65825792, 5.89685594, 5.88692415, 4.65938091]),\n",
       " (8, 3): array([5.28911641, 6.55673144, 6.55825472, 5.28655571]),\n",
       " (8, 4): array([5.89851443, 5.89854232, 7.2883538 , 5.89702715]),\n",
       " (8, 5): array([6.55741642, 5.31209584, 6.55983731, 5.31021711]),\n",
       " (8, 6): array([5.90325238, 5.90372379, 4.77917143]),\n",
       " (8, 7): array([0.]),\n",
       " (8, 8): array([3.87372608, 4.78250352, 3.87358497]),\n",
       " (8, 9): array([4.30412315, 4.30424334, 3.48622757]),\n",
       " (9, 0): array([4.0159388 , 3.86867724]),\n",
       " (9, 1): array([3.13423996, 4.5619135 , 4.70528902]),\n",
       " (9, 2): array([4.0248726 , 5.2519979 , 5.26705808]),\n",
       " (9, 3): array([4.61743789, 5.89479345, 5.89487537]),\n",
       " (9, 4): array([5.27897058, 5.30869917, 6.55770682]),\n",
       " (9, 5): array([5.8965977 , 4.77987016, 5.9025275 ]),\n",
       " (9, 6): array([5.31063661, 4.30113416, 5.31285014]),\n",
       " (9, 7): array([4.78102112, 3.87343188]),\n",
       " (9, 8): array([4.30242292, 3.4860757 , 4.30413114]),\n",
       " (9, 9): array([3.87352711, 3.87371851])}"
      ]
     },
     "execution_count": 115,
     "metadata": {},
     "output_type": "execute_result"
    }
   ],
   "source": [
    "learner1.run()"
   ]
  },
  {
   "cell_type": "code",
   "execution_count": 117,
   "metadata": {},
   "outputs": [
    {
     "data": {
      "image/png": "[encoded data removed]",
      "text/plain": [
       "<Figure size 720x720 with 1 Axes>"
      ]
     },
     "metadata": {
      "needs_background": "light"
     },
     "output_type": "display_data"
    }
   ],
   "source": [
    "actions, values = learner1.actions_values()\n",
    "env1.plot_action(actions, values)"
   ]
  },
  {
   "cell_type": "markdown",
   "metadata": {},
   "source": [
    "## Laberinto de cuartos \n",
    "\n",
    "El ambiente del laberinto de cuartos consiste en una cuadricula con 4 cuartos como se muestra a continuación.\n",
    "\n",
    "![rooms](./img/four-rooms.png)\n",
    "\n",
    "Para este ambiente queremos que el agente aprenda a salir por el cuarto superior izquierdo en la menor cantidad de pasos posible. La única restricción de este ambiente es que al final de cada episodio el agente comienza nuevamente en cualquier posicón valida del laberinto. Usted debe definir los parametros ($\\alpha, \\gamma, \\epsilon$, recompensa) para asegurar el comportamiento del agente"
   ]
  },
  {
   "cell_type": "code",
   "execution_count": 118,
   "metadata": {},
   "outputs": [
    {
     "data": {
      "image/png": "[encoded data removed]",
      "text/plain": [
       "<Figure size 720x720 with 1 Axes>"
      ]
     },
     "metadata": {
      "needs_background": "light"
     },
     "output_type": "display_data"
    }
   ],
   "source": [
    "board = [\n",
    "    ['*', '*', '*', '*', '*', '*','*', '*', '*', '*','*', '*', '*'],\n",
    "    ['*', ' ', ' ', ' ', ' ',' ', '*', ' ', ' ', ' ',' ', ' ', '*'],\n",
    "    ['*', ' ', ' ', ' ', ' ',' ', '*', ' ', ' ', ' ',' ', ' ', '*'],\n",
    "    ['*', ' ', ' ', ' ', ' ',' ', ' ', ' ', ' ', ' ',' ', ' ', '+1'],\n",
    "    ['*', ' ', ' ', ' ', ' ',' ', '*', ' ', ' ', ' ',' ', ' ', '*'],\n",
    "    ['*', ' ', ' ', ' ', ' ',' ', '*', ' ', ' ', ' ',' ', ' ', '*'],\n",
    "    ['*', '*', '*', ' ', '*', '*','*', '*', '*', ' ','*', '*', '*'],\n",
    "    ['*', ' ', ' ', ' ', ' ',' ', '*', ' ', ' ', ' ',' ', ' ', '*'],\n",
    "    ['*', ' ', ' ', ' ', ' ',' ', '*', ' ', ' ', ' ',' ', ' ', '*'],\n",
    "    ['*', ' ', ' ', ' ', ' ',' ', ' ', ' ', ' ', ' ',' ', ' ', '*'],\n",
    "    ['*', ' ', ' ', ' ', ' ',' ', '*', ' ', ' ', ' ',' ', ' ', '*'],\n",
    "    ['*', ' ', ' ', ' ', ' ',' ', '*', ' ', ' ', ' ',' ', ' ', '*'],\n",
    "    ['*', '*', '*','*', '*', '*', '*', '*', '*', '*','*', '*', '*']\n",
    "]\n",
    "initial_state = (8, 2)\n",
    "\n",
    "env2 = Gridworld(board, initial_state)\n",
    "\n",
    "env2.plot()"
   ]
  },
  {
   "cell_type": "code",
   "execution_count": 119,
   "metadata": {},
   "outputs": [
    {
     "name": "stdout",
     "output_type": "stream",
     "text": [
      "{(0, 0): array([0.]), (0, 1): array([0.]), (0, 2): array([0.]), (0, 3): array([0.]), (0, 4): array([0.]), (0, 5): array([0.]), (0, 6): array([0.]), (0, 7): array([0.]), (0, 8): array([0.]), (0, 9): array([0.]), (0, 10): array([0.]), (0, 11): array([0.]), (0, 12): array([0.]), (1, 0): array([0.]), (1, 1): array([0., 0.]), (1, 2): array([0., 0., 0.]), (1, 3): array([0., 0., 0.]), (1, 4): array([0., 0., 0.]), (1, 5): array([0., 0.]), (1, 6): array([0.]), (1, 7): array([0., 0.]), (1, 8): array([0., 0., 0.]), (1, 9): array([0., 0., 0.]), (1, 10): array([0., 0., 0.]), (1, 11): array([0., 0.]), (1, 12): array([0.]), (2, 0): array([0.]), (2, 1): array([0., 0., 0.]), (2, 2): array([0., 0., 0., 0.]), (2, 3): array([0., 0., 0., 0.]), (2, 4): array([0., 0., 0., 0.]), (2, 5): array([0., 0., 0.]), (2, 6): array([0.]), (2, 7): array([0., 0., 0.]), (2, 8): array([0., 0., 0., 0.]), (2, 9): array([0., 0., 0., 0.]), (2, 10): array([0., 0., 0., 0.]), (2, 11): array([0., 0., 0.]), (2, 12): array([0.]), (3, 0): array([0.]), (3, 1): array([0., 0., 0.]), (3, 2): array([0., 0., 0., 0.]), (3, 3): array([0., 0., 0., 0.]), (3, 4): array([0., 0., 0., 0.]), (3, 5): array([0., 0., 0., 0.]), (3, 6): array([0., 0.]), (3, 7): array([0., 0., 0., 0.]), (3, 8): array([0., 0., 0., 0.]), (3, 9): array([0., 0., 0., 0.]), (3, 10): array([0., 0., 0., 0.]), (3, 11): array([0., 0., 0., 0.]), (3, 12): array([0.]), (4, 0): array([0.]), (4, 1): array([0., 0., 0.]), (4, 2): array([0., 0., 0., 0.]), (4, 3): array([0., 0., 0., 0.]), (4, 4): array([0., 0., 0., 0.]), (4, 5): array([0., 0., 0.]), (4, 6): array([0.]), (4, 7): array([0., 0., 0.]), (4, 8): array([0., 0., 0., 0.]), (4, 9): array([0., 0., 0., 0.]), (4, 10): array([0., 0., 0., 0.]), (4, 11): array([0., 0., 0.]), (4, 12): array([0.]), (5, 0): array([0.]), (5, 1): array([0., 0.]), (5, 2): array([0., 0., 0.]), (5, 3): array([0., 0., 0., 0.]), (5, 4): array([0., 0., 0.]), (5, 5): array([0., 0.]), (5, 6): array([0.]), (5, 7): array([0., 0.]), (5, 8): array([0., 0., 0.]), (5, 9): array([0., 0., 0., 0.]), (5, 10): array([0., 0., 0.]), (5, 11): array([0., 0.]), (5, 12): array([0.]), (6, 0): array([0.]), (6, 1): array([0.]), (6, 2): array([0.]), (6, 3): array([0., 0.]), (6, 4): array([0.]), (6, 5): array([0.]), (6, 6): array([0.]), (6, 7): array([0.]), (6, 8): array([0.]), (6, 9): array([0., 0.]), (6, 10): array([0.]), (6, 11): array([0.]), (6, 12): array([0.]), (7, 0): array([0.]), (7, 1): array([0., 0.]), (7, 2): array([0., 0., 0.]), (7, 3): array([0., 0., 0., 0.]), (7, 4): array([0., 0., 0.]), (7, 5): array([0., 0.]), (7, 6): array([0.]), (7, 7): array([0., 0.]), (7, 8): array([0., 0., 0.]), (7, 9): array([0., 0., 0., 0.]), (7, 10): array([0., 0., 0.]), (7, 11): array([0., 0.]), (7, 12): array([0.]), (8, 0): array([0.]), (8, 1): array([0., 0., 0.]), (8, 2): array([0., 0., 0., 0.]), (8, 3): array([0., 0., 0., 0.]), (8, 4): array([0., 0., 0., 0.]), (8, 5): array([0., 0., 0.]), (8, 6): array([0.]), (8, 7): array([0., 0., 0.]), (8, 8): array([0., 0., 0., 0.]), (8, 9): array([0., 0., 0., 0.]), (8, 10): array([0., 0., 0., 0.]), (8, 11): array([0., 0., 0.]), (8, 12): array([0.]), (9, 0): array([0.]), (9, 1): array([0., 0., 0.]), (9, 2): array([0., 0., 0., 0.]), (9, 3): array([0., 0., 0., 0.]), (9, 4): array([0., 0., 0., 0.]), (9, 5): array([0., 0., 0., 0.]), (9, 6): array([0., 0.]), (9, 7): array([0., 0., 0., 0.]), (9, 8): array([0., 0., 0., 0.]), (9, 9): array([0., 0., 0., 0.]), (9, 10): array([0., 0., 0., 0.]), (9, 11): array([0., 0., 0.]), (9, 12): array([0.]), (10, 0): array([0.]), (10, 1): array([0., 0., 0.]), (10, 2): array([0., 0., 0., 0.]), (10, 3): array([0., 0., 0., 0.]), (10, 4): array([0., 0., 0., 0.]), (10, 5): array([0., 0., 0.]), (10, 6): array([0.]), (10, 7): array([0., 0., 0.]), (10, 8): array([0., 0., 0., 0.]), (10, 9): array([0., 0., 0., 0.]), (10, 10): array([0., 0., 0., 0.]), (10, 11): array([0., 0., 0.]), (10, 12): array([0.]), (11, 0): array([0.]), (11, 1): array([0., 0.]), (11, 2): array([0., 0., 0.]), (11, 3): array([0., 0., 0.]), (11, 4): array([0., 0., 0.]), (11, 5): array([0., 0.]), (11, 6): array([0.]), (11, 7): array([0., 0.]), (11, 8): array([0., 0., 0.]), (11, 9): array([0., 0., 0.]), (11, 10): array([0., 0., 0.]), (11, 11): array([0., 0.]), (11, 12): array([0.]), (12, 0): array([0.]), (12, 1): array([0.]), (12, 2): array([0.]), (12, 3): array([0.]), (12, 4): array([0.]), (12, 5): array([0.]), (12, 6): array([0.]), (12, 7): array([0.]), (12, 8): array([0.]), (12, 9): array([0.]), (12, 10): array([0.]), (12, 11): array([0.]), (12, 12): array([0.])}\n"
     ]
    }
   ],
   "source": [
    "learner2 = Learner(env2, alpha=0.1, gamma=0.9, epsilon=0.9)"
   ]
  },
  {
   "cell_type": "code",
   "execution_count": 120,
   "metadata": {},
   "outputs": [
    {
     "name": "stdout",
     "output_type": "stream",
     "text": [
      "305898\n"
     ]
    },
    {
     "data": {
      "text/plain": [
       "{(0, 0): array([0.]),\n",
       " (0, 1): array([0.]),\n",
       " (0, 2): array([0.]),\n",
       " (0, 3): array([0.]),\n",
       " (0, 4): array([0.]),\n",
       " (0, 5): array([0.]),\n",
       " (0, 6): array([0.]),\n",
       " (0, 7): array([0.]),\n",
       " (0, 8): array([0.]),\n",
       " (0, 9): array([0.]),\n",
       " (0, 10): array([0.]),\n",
       " (0, 11): array([0.]),\n",
       " (0, 12): array([0.]),\n",
       " (1, 0): array([0.]),\n",
       " (1, 1): array([2.54152058, 2.5414578 ]),\n",
       " (1, 2): array([2.28729923, 2.82396665, 2.82397083]),\n",
       " (1, 3): array([2.54155104, 3.13774887, 3.13777326]),\n",
       " (1, 4): array([2.82396409, 3.48640554, 3.48643773]),\n",
       " (1, 5): array([3.13775511, 3.87382642]),\n",
       " (1, 6): array([0.]),\n",
       " (1, 7): array([4.78246466, 4.78254471]),\n",
       " (1, 8): array([4.3041695 , 5.31392752, 5.31398718]),\n",
       " (1, 9): array([4.78250682, 5.90437286, 5.90445726]),\n",
       " (1, 10): array([5.31388693, 6.56051242, 6.56055683]),\n",
       " (1, 11): array([5.90439571, 7.28955306]),\n",
       " (1, 12): array([0.]),\n",
       " (2, 0): array([0.]),\n",
       " (2, 1): array([2.82396199, 2.28724339, 2.82391029]),\n",
       " (2, 2): array([2.54151948, 3.13777997, 2.54153852, 3.13774765]),\n",
       " (2, 3): array([2.82397647, 3.48643828, 2.82396723, 3.48642614]),\n",
       " (2, 4): array([3.13777492, 3.87383714, 3.13777844, 3.87384238]),\n",
       " (2, 5): array([3.48643627, 3.48640444, 4.30431511]),\n",
       " (2, 6): array([0.]),\n",
       " (2, 7): array([5.31395456, 4.30420364, 5.31401113]),\n",
       " (2, 8): array([4.78247611, 5.90452208, 4.78251169, 5.90447065]),\n",
       " (2, 9): array([5.31399113, 6.5605841 , 5.31393248, 6.56062078]),\n",
       " (2, 10): array([5.90448449, 7.28954876, 5.90445644, 7.2895841 ]),\n",
       " (2, 11): array([6.56058311, 6.56052106, 8.09956699]),\n",
       " (2, 12): array([0.]),\n",
       " (3, 0): array([0.]),\n",
       " (3, 1): array([3.13775325, 2.54147571, 2.54142249]),\n",
       " (3, 2): array([2.823905  , 3.48642914, 2.82398173, 2.82395196]),\n",
       " (3, 3): array([3.13776848, 3.87384502, 3.13776538, 3.13776728]),\n",
       " (3, 4): array([3.48643249, 4.30429748, 3.48644263, 3.48643402]),\n",
       " (3, 5): array([3.87383922, 4.78259818, 3.87385032, 3.87381846]),\n",
       " (3, 6): array([4.30429066, 5.31402753]),\n",
       " (3, 7): array([4.78252816, 5.90453068, 4.78255418, 4.78255362]),\n",
       " (3, 8): array([5.31402243, 6.56062628, 5.31401232, 5.31400769]),\n",
       " (3, 9): array([5.90451549, 7.28960466, 5.90451614, 5.90449634]),\n",
       " (3, 10): array([6.56059633, 8.0995846 , 6.5605972 , 6.56058067]),\n",
       " (3, 11): array([7.28958645, 8.99956829, 7.28955601, 7.2895654 ]),\n",
       " (3, 12): array([9.99956829]),\n",
       " (4, 0): array([0.]),\n",
       " (4, 1): array([2.82393438, 2.82388166, 2.28724888]),\n",
       " (4, 2): array([2.54148185, 3.1377606 , 3.13775488, 2.54148058]),\n",
       " (4, 3): array([2.82395315, 3.4864238 , 3.4864372 , 2.82396962]),\n",
       " (4, 4): array([3.13776824, 3.87383014, 3.87383601, 3.13776645]),\n",
       " (4, 5): array([3.48643471, 4.30429039, 3.48641579]),\n",
       " (4, 6): array([0.]),\n",
       " (4, 7): array([5.31400804, 5.31398092, 4.30416985]),\n",
       " (4, 8): array([4.78254862, 5.90449349, 5.90451422, 4.78255593]),\n",
       " (4, 9): array([5.31401942, 6.56058849, 6.56058892, 5.31397527]),\n",
       " (4, 10): array([5.90448282, 7.28953479, 7.28959097, 5.90445605]),\n",
       " (4, 11): array([6.56056223, 8.09956114, 6.5604875 ]),\n",
       " (4, 12): array([0.]),\n",
       " (5, 0): array([0.]),\n",
       " (5, 1): array([2.54147863, 2.54147773]),\n",
       " (5, 2): array([2.28727225, 2.82395233, 2.823925  ]),\n",
       " (5, 3): array([2.54153081, 3.1377668 , 3.13776904, 2.54155147]),\n",
       " (5, 4): array([2.82396137, 3.48641492, 3.48643432]),\n",
       " (5, 5): array([3.13772626, 3.8738319 ]),\n",
       " (5, 6): array([0.]),\n",
       " (5, 7): array([4.78253749, 4.78250576]),\n",
       " (5, 8): array([4.30422156, 5.31399397, 5.31399356]),\n",
       " (5, 9): array([4.78253563, 5.90446818, 5.90448568, 4.78248276]),\n",
       " (5, 10): array([5.31398122, 6.56050639, 6.56056989]),\n",
       " (5, 11): array([5.90443811, 7.28952466]),\n",
       " (5, 12): array([0.]),\n",
       " (6, 0): array([0.]),\n",
       " (6, 1): array([0.]),\n",
       " (6, 2): array([0.]),\n",
       " (6, 3): array([2.82397557, 2.28738748]),\n",
       " (6, 4): array([0.]),\n",
       " (6, 5): array([0.]),\n",
       " (6, 6): array([0.]),\n",
       " (6, 7): array([0.]),\n",
       " (6, 8): array([0.]),\n",
       " (6, 9): array([5.31397132, 4.30422952]),\n",
       " (6, 10): array([0.]),\n",
       " (6, 11): array([0.]),\n",
       " (6, 12): array([0.]),\n",
       " (7, 0): array([0.]),\n",
       " (7, 1): array([2.05864333, 1.66746282]),\n",
       " (7, 2): array([1.85276273, 2.28739595, 1.85276205]),\n",
       " (7, 3): array([2.05863818, 2.05862761, 2.54156427, 2.05863217]),\n",
       " (7, 4): array([2.28738876, 1.85273131, 1.8527417 ]),\n",
       " (7, 5): array([2.05862423, 2.05853216]),\n",
       " (7, 6): array([0.]),\n",
       " (7, 7): array([3.87370978, 3.13760436]),\n",
       " (7, 8): array([3.48625171, 4.30421238, 3.48629621]),\n",
       " (7, 9): array([3.87372174, 3.87371625, 4.78253218, 3.87377614]),\n",
       " (7, 10): array([4.30420382, 3.48627031, 3.48629219]),\n",
       " (7, 11): array([3.8737203 , 3.13757931]),\n",
       " (7, 12): array([0.]),\n",
       " (8, 0): array([0.]),\n",
       " (8, 1): array([1.85276635, 1.85275748, 1.50069746]),\n",
       " (8, 2): array([1.66747144, 2.05863324, 2.0586423 , 1.66746482]),\n",
       " (8, 3): array([1.85275554, 1.85273529, 2.28739022, 1.85274289]),\n",
       " (8, 4): array([2.05862081, 2.0585424 , 2.05862384, 2.058547  ]),\n",
       " (8, 5): array([1.85271758, 1.85272791, 2.28728902]),\n",
       " (8, 6): array([0.]),\n",
       " (8, 7): array([3.4863002 , 3.48621595, 2.82382638]),\n",
       " (8, 8): array([3.13759047, 3.87374342, 3.87370788, 3.1376221 ]),\n",
       " (8, 9): array([3.48629899, 3.48629931, 4.30424837, 3.48634099]),\n",
       " (8, 10): array([3.87375545, 3.1375838 , 3.87368185, 3.13757545]),\n",
       " (8, 11): array([3.48627318, 3.48620755, 2.82374757]),\n",
       " (8, 12): array([0.]),\n",
       " (9, 0): array([0.]),\n",
       " (9, 1): array([1.66745094, 1.66746641, 1.35060763]),\n",
       " (9, 2): array([1.50069404, 1.85273508, 1.85275677, 1.50068221]),\n",
       " (9, 3): array([1.66745854, 2.05855055, 2.05862769, 1.66744567]),\n",
       " (9, 4): array([1.85273865, 2.28729145, 1.85273451, 1.85264559]),\n",
       " (9, 5): array([2.05855016, 2.5414548 , 2.0585436 , 2.05854516]),\n",
       " (9, 6): array([2.28728632, 2.82388353]),\n",
       " (9, 7): array([2.54145992, 3.13768764, 3.13757866, 2.54143912]),\n",
       " (9, 8): array([2.82387251, 3.48635769, 3.48631452, 2.82383885]),\n",
       " (9, 9): array([3.1376841 , 3.13762386, 3.87375912, 3.13764587]),\n",
       " (9, 10): array([3.48629524, 2.82374416, 3.48628723, 2.82382878]),\n",
       " (9, 11): array([3.13757748, 3.13752667, 2.54135114]),\n",
       " (9, 12): array([0.]),\n",
       " (10, 0): array([0.]),\n",
       " (10, 1): array([1.50067443, 1.50069822, 1.21549324]),\n",
       " (10, 2): array([1.35059085, 1.66743738, 1.66744407, 1.35057879]),\n",
       " (10, 3): array([1.50067223, 1.85266075, 1.85274334, 1.50062876]),\n",
       " (10, 4): array([1.66742576, 2.05854036, 2.05852359, 1.66736406]),\n",
       " (10, 5): array([1.8526446 , 2.28729139, 1.85266476]),\n",
       " (10, 6): array([0.]),\n",
       " (10, 7): array([2.82381998, 2.82387101, 2.28718698]),\n",
       " (10, 8): array([2.54141024, 3.13764548, 3.13764229, 2.54141952]),\n",
       " (10, 9): array([2.82381779, 2.82386458, 3.48633884, 2.82379837]),\n",
       " (10, 10): array([3.13766157, 2.54137469, 3.13758428, 2.5413642 ]),\n",
       " (10, 11): array([2.82380959, 2.82376827, 2.2870944 ]),\n",
       " (10, 12): array([0.]),\n",
       " (11, 0): array([0.]),\n",
       " (11, 1): array([1.35055694, 1.35059544]),\n",
       " (11, 2): array([1.21549714, 1.50064947, 1.50067201]),\n",
       " (11, 3): array([1.35057479, 1.66732622, 1.66742598]),\n",
       " (11, 4): array([1.50063545, 1.8526694 , 1.85264548]),\n",
       " (11, 5): array([1.66737507, 2.05854325]),\n",
       " (11, 6): array([0.]),\n",
       " (11, 7): array([2.54135387, 2.54141442]),\n",
       " (11, 8): array([2.28717287, 2.82378142, 2.82383984]),\n",
       " (11, 9): array([2.54137369, 2.54136543, 3.13762919]),\n",
       " (11, 10): array([2.82379868, 2.28702611, 2.82383081]),\n",
       " (11, 11): array([2.54132542, 2.54126854]),\n",
       " (11, 12): array([0.]),\n",
       " (12, 0): array([0.]),\n",
       " (12, 1): array([0.]),\n",
       " (12, 2): array([0.]),\n",
       " (12, 3): array([0.]),\n",
       " (12, 4): array([0.]),\n",
       " (12, 5): array([0.]),\n",
       " (12, 6): array([0.]),\n",
       " (12, 7): array([0.]),\n",
       " (12, 8): array([0.]),\n",
       " (12, 9): array([0.]),\n",
       " (12, 10): array([0.]),\n",
       " (12, 11): array([0.]),\n",
       " (12, 12): array([0.])}"
      ]
     },
     "execution_count": 120,
     "metadata": {},
     "output_type": "execute_result"
    }
   ],
   "source": [
    "learner2.run()"
   ]
  },
  {
   "cell_type": "code",
   "execution_count": 121,
   "metadata": {},
   "outputs": [
    {
     "data": {
      "image/png": "[encoded data removed]",
      "text/plain": [
       "<Figure size 720x720 with 1 Axes>"
      ]
     },
     "metadata": {
      "needs_background": "light"
     },
     "output_type": "display_data"
    }
   ],
   "source": [
    "actions, values = learner2.actions_values()\n",
    "env2.plot_action(actions, values)"
   ]
  },
  {
   "cell_type": "markdown",
   "metadata": {},
   "source": [
    "## Taxi\n",
    "\n",
    "El ambiente de taxi consiste en una cuadrícula de `5x5`, con 4 estaciones (`R`, `G`,`Y`, `B`), como se muestra en la figura. El taxi puede moverse libremente entre las casillas de la cuadrícula. sin embargo, no puede atravesar por los separadores (las lines más gruesas en la figura).\n",
    "\n",
    "![taxi](./img/Taxi.png)\n",
    "\n",
    "El taxi (i.e., el agente) se mueve por el ambiente buscando recoger un pasajero. Los pasajeros aparecen aleatoriamente en alguno de los paraderos (uno a la vez) y deben llegar a su destino (algún otro paradero).\n",
    "\n",
    "Las acciones del agente corresponden a los movimientos del agente en el tablero y las acciones para recoger y dejar pasajeros. \n",
    "Tratar de recoger o dejar un pasajero en un lugar indebido o cuando no hay pasajero, son consideradas malas accciones del agente y deben ser penalizadas (tienen una recompenza de -10). Para asegurar que el agente efectivamente recoge pasajeros, debemos darle una recompensa de 1 a la acción. Efectivamente dejar al pasajero tiene una recompensa de 5. \n",
    "\n",
    "Implemente el algoritmo de Q-learning (defina sus propios parámetros) para el aprendizaje del agente."
   ]
  },
  {
   "cell_type": "markdown",
   "metadata": {},
   "source": [
    "**Nota:** Se asume que el taxi inicia en el punto amarillo y recoge al pasagero en el punto verde."
   ]
  },
  {
   "cell_type": "code",
   "execution_count": 123,
   "metadata": {},
   "outputs": [
    {
     "data": {
      "image/png": "[encoded data removed]",
      "text/plain": [
       "<Figure size 720x720 with 1 Axes>"
      ]
     },
     "metadata": {
      "needs_background": "light"
     },
     "output_type": "display_data"
    }
   ],
   "source": [
    "board = [\n",
    "    ['Y', ' ', ' ', ' ','R'],\n",
    "    [' ', ' ', ' ', ' ',' '],\n",
    "    [' ', ' ', ' ', ' ',' '],\n",
    "    ['B', ' ', ' ', ' ',' '],\n",
    "    [' ', ' ', ' ', ' ','+1']\n",
    "]\n",
    "initial_state = (0, 0)\n",
    "walls = [\n",
    "    ['r', 'r', ' ', ' ','R'],\n",
    "    ['l', 'l', ' ', 'r','r'],\n",
    "    ['r', 'r', ' ', 'l','l'],\n",
    "    ['l', 'l', ' ', ' ',' '],\n",
    "    ['B', ' ', ' ', ' ','G']\n",
    "]\n",
    "\n",
    "env3 = Gridworld(board, initial_state, walls)\n",
    "\n",
    "env3.plot()"
   ]
  },
  {
   "cell_type": "code",
   "execution_count": 127,
   "metadata": {},
   "outputs": [
    {
     "name": "stdout",
     "output_type": "stream",
     "text": [
      "{(0, 0): array([0., 0.]), (0, 1): array([0., 0., 0.]), (0, 2): array([0., 0., 0.]), (0, 3): array([0., 0.]), (0, 4): array([0.]), (1, 0): array([0., 0.]), (1, 1): array([0., 0., 0.]), (1, 2): array([0., 0., 0., 0.]), (1, 3): array([0., 0., 0., 0.]), (1, 4): array([0., 0., 0.]), (2, 0): array([0., 0.]), (2, 1): array([0., 0., 0.]), (2, 2): array([0., 0., 0., 0.]), (2, 3): array([0., 0., 0., 0.]), (2, 4): array([0., 0., 0.]), (3, 0): array([0., 0., 0.]), (3, 1): array([0., 0., 0., 0.]), (3, 2): array([0., 0., 0., 0.]), (3, 3): array([0., 0., 0.]), (3, 4): array([0., 0.]), (4, 0): array([0.]), (4, 1): array([0., 0.]), (4, 2): array([0., 0., 0.]), (4, 3): array([0., 0., 0.]), (4, 4): array([0.])}\n"
     ]
    }
   ],
   "source": [
    "learner3 = Learner(env3, alpha=0.1, gamma=0.9, epsilon=0.9)"
   ]
  },
  {
   "cell_type": "code",
   "execution_count": 128,
   "metadata": {},
   "outputs": [
    {
     "name": "stdout",
     "output_type": "stream",
     "text": [
      "48324\n"
     ]
    },
    {
     "data": {
      "text/plain": [
       "{(0, 0): array([4.30419468, 4.30420191]),\n",
       " (0, 1): array([3.87374867, 4.7824581 , 4.78246313]),\n",
       " (0, 2): array([4.30418247, 4.30418846, 5.31387452]),\n",
       " (0, 3): array([4.78246427, 3.87377303]),\n",
       " (0, 4): array([4.30420624]),\n",
       " (1, 0): array([4.78247082, 3.87376045]),\n",
       " (1, 1): array([4.30419473, 5.31388042, 4.30417571]),\n",
       " (1, 2): array([4.78244084, 5.9041965 , 4.7824208 , 5.90434804]),\n",
       " (1, 3): array([5.31354909, 6.55766113, 4.30395579, 6.56027007]),\n",
       " (1, 4): array([5.90219956, 3.8722829 , 7.28789827]),\n",
       " (2, 0): array([5.31337802, 5.30951444]),\n",
       " (2, 1): array([4.78169051, 5.90428348, 5.90380794]),\n",
       " (2, 2): array([5.31372057, 6.56025125, 5.31378864, 6.56044024]),\n",
       " (2, 3): array([5.90406902, 7.28812851, 5.90389863, 7.28941298]),\n",
       " (2, 4): array([6.55899231, 6.5542502 , 8.09902578]),\n",
       " (3, 0): array([5.89914989, 4.77008363, 5.90319187]),\n",
       " (3, 1): array([5.31006398, 6.55966728, 5.31333541, 6.56030858]),\n",
       " (3, 2): array([5.90408964, 7.28946554, 5.90422254, 7.28942203]),\n",
       " (3, 3): array([6.56040259, 8.09936334, 8.09952781]),\n",
       " (3, 4): array([7.28923805, 8.99948108]),\n",
       " (4, 0): array([6.56057148]),\n",
       " (4, 1): array([5.90447869, 7.28955147]),\n",
       " (4, 2): array([6.56055581, 8.09952846, 6.56043217]),\n",
       " (4, 3): array([7.28947627, 8.99953746, 7.28945369]),\n",
       " (4, 4): array([9.99956829])}"
      ]
     },
     "execution_count": 128,
     "metadata": {},
     "output_type": "execute_result"
    }
   ],
   "source": [
    "learner3.run()"
   ]
  },
  {
   "cell_type": "code",
   "execution_count": 129,
   "metadata": {},
   "outputs": [
    {
     "data": {
      "image/png": "[encoded data removed]",
      "text/plain": [
       "<Figure size 720x720 with 1 Axes>"
      ]
     },
     "metadata": {
      "needs_background": "light"
     },
     "output_type": "display_data"
    }
   ],
   "source": [
    "actions, values = learner3.actions_values()\n",
    "env3.plot_action(actions, values)"
   ]
  },
  {
   "cell_type": "markdown",
   "metadata": {},
   "source": [
    "## Conclusiones"
   ]
  },
  {
   "cell_type": "markdown",
   "metadata": {},
   "source": [
    "Para concluir, este algoritmo termina con una politica optima, generalmente es muy rapido, y siempre termina con una muy buena politica para los tres escenarios realizados anteriormente. En cuanto a los hiperparamentros se debe contar con un epsilon grande, pues esto, permite que el algorimo tenga mayor tiempo de exploracion, que es algo muy necesario, de lo contrario no encontraria tan buenas politicas.\n",
    "\n",
    "Q-Learning calcula la política optima, al contrario del SARSA que tomaba el camino seguro, y que si bien se podia demorar menos, no tenia una politica tan optima para poder llegar al objetivo como si lo tiene el Q-Learning, y en general siempre va a tener un valor mas alto que SARSA.\n",
    "\n",
    "Q-Learning aproxima la funcion de valor optima independientemente de la politica que esta siguiendo, lo que lo hace muy eficiente y muy bueno para elegir la mejor accion posible desde el siguiente estado."
   ]
  }
 ],
 "metadata": {
  "kernelspec": {
   "display_name": "Python 3 (ipykernel)",
   "language": "python",
   "name": "python3"
  },
  "language_info": {
   "codemirror_mode": {
    "name": "ipython",
    "version": 3
   },
   "file_extension": ".py",
   "mimetype": "text/x-python",
   "name": "python",
   "nbconvert_exporter": "python",
   "pygments_lexer": "ipython3",
   "version": "3.9.7"
  },
  "vscode": {
   "interpreter": {
    "hash": "31f2aee4e71d21fbe5cf8b01ff0e069b9275f58929596ceb00d14d90e3e16cd6"
   }
  }
 },
 "nbformat": 4,
 "nbformat_minor": 4
}
