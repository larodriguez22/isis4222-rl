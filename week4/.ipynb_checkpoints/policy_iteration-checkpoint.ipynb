{
 "cells": [
  {
   "cell_type": "code",
   "execution_count": 74,
   "metadata": {},
   "outputs": [],
   "source": [
    "import matplotlib.pyplot as plt\n",
    "import numpy as np\n",
    "import matplotlib.patches as patches\n",
    "\n",
    "class Gridworld:\n",
    "    def __init__(self, board, initial_state = (0,0)):\n",
    "        self.nrows, self.ncols = len(board),len(board[0])\n",
    "        self.grid = np.zeros((self.nrows, self.ncols))\n",
    "        \n",
    "        for i in range(len(board)):\n",
    "            for j in range(len(board[0])):\n",
    "                if board[i][j] == \"*\":\n",
    "                    self.grid[i][j] = -2\n",
    "                elif board[i][j] == \"+1\":\n",
    "                    self.grid[i][j] = 1\n",
    "                elif board[i][j] == \"+100\":\n",
    "                    self.grid[i][j] = 100\n",
    "                elif board[i][j] == \"-1\":\n",
    "                    self.grid[i][j] = -1\n",
    "                elif board[i][j] == \"-100\":\n",
    "                    self.grid[i][j] = -100\n",
    "        # self.grid[-1, -1] = 1  # set the final state to have a reward of 1\n",
    "        # print(\"grid despues\",self.grid)\n",
    "        self.initial_state = initial_state\n",
    "        self.state = initial_state\n",
    "        \n",
    "    def get_states(self):\n",
    "        return self.grid\n",
    "\n",
    "    def get_current_state(self):\n",
    "        return self.state\n",
    "\n",
    "    def get_possible_actions(self, state):\n",
    "        i, j = state\n",
    "        actions = []\n",
    "        if self.grid[state]==0:\n",
    "            if j > 0 and self.grid[i][j-1] != -2:\n",
    "                actions.append('down')\n",
    "            if j < self.ncols - 1 and self.grid[i][j+1] != -2:\n",
    "                actions.append('up')\n",
    "            if i > 0 and self.grid[i-1][j] != -2:\n",
    "                actions.append('left')\n",
    "            if i < self.nrows - 1 and self.grid[i+1][j] != -2:\n",
    "                actions.append('right')\n",
    "        elif self.grid[state] != -2:\n",
    "            actions.append(\"end\")\n",
    "        elif self.grid[state] == -2:\n",
    "            return [None]\n",
    "        return actions\n",
    "    \n",
    "    def get_next_states(self, state, action):\n",
    "        i, j = state\n",
    "        reward = 0\n",
    "        if action == 'left' :\n",
    "            i -= 1\n",
    "        elif action == 'right':\n",
    "            i += 1\n",
    "        elif action == 'down':\n",
    "            j -= 1\n",
    "        elif action == 'up':\n",
    "            j += 1\n",
    "        elif action == 'end':\n",
    "            reward = self.grid[i, j]\n",
    "        self.state = (i, j)\n",
    "        return reward, self.state\n",
    "\n",
    "    def do_action(self, action):\n",
    "        i, j = self.state\n",
    "        if action == 'left' :\n",
    "            i -= 1\n",
    "        elif action == 'right':\n",
    "            i += 1\n",
    "        elif action == 'down':\n",
    "            j -= 1\n",
    "        elif action == 'up':\n",
    "            j += 1\n",
    "        self.state = (i, j)\n",
    "        return self.grid[i, j], self.state\n",
    "\n",
    "    def reset(self):\n",
    "        self.state = self.initial_state\n",
    "\n",
    "    def is_terminal(self):\n",
    "        return self.grid[self.state] == 1\n",
    "    \n",
    "    def plot(self):\n",
    "        fig1 = plt.figure(figsize=(10, 10))\n",
    "        ax1 = fig1.add_subplot(111, aspect='equal')\n",
    "        \n",
    "        # Lineas\n",
    "        for i in range(0, len(self.grid)+1):\n",
    "            ax1.axvline(i , linewidth=2, color=\"#2D2D33\")\n",
    "        for j in range(0, len(self.grid[0])+1):\n",
    "            ax1.axhline(j , linewidth=2, color=\"#2D2D33\")\n",
    "        \n",
    "        # Amarillo - inicio\n",
    "        ax1.add_patch(patches.Rectangle(self.initial_state, 1, 1, facecolor = \"#F6D924\"))\n",
    "        for i in range(len(self.grid)):\n",
    "            for j in range(len(self.grid[0])):\n",
    "                if self.grid[i][j] >= 1: # verde\n",
    "                    ax1.add_patch(patches.Rectangle((i,j), 1, 1, facecolor = \"#68FF33\"))\n",
    "                if self.grid[i][j] == -2: # gris\n",
    "                    ax1.add_patch(patches.Rectangle((i,j), 1, 1, facecolor = \"#6c7780\"))\n",
    "                if self.grid[i][j] == -1 or self.grid[i][j] == -100: # rojo\n",
    "                    ax1.add_patch(patches.Rectangle((i,j), 1, 1, facecolor = \"#cc0000\"))\n",
    "        plt.scatter(self.state[0] + 0.5, self.state[1] +0.5, s = 100, color = \"black\", marker = \"o\", facecolor = \"blue\", edgecolors = \"blue\", zorder = 10)\n",
    "        for i in range(len(self.grid)):\n",
    "            for j in range(len(self.grid[0])):\n",
    "                if self.grid[i, j] == -2:\n",
    "                    ax1.text(i+0.5, j+0.5, \"*\", ha='center', va='center')\n",
    "                else:\n",
    "                    ax1.text(i+0.5, j+0.5, self.grid[i, j], ha='center', va='center')\n",
    "        plt.axis(\"off\")\n",
    "        plt.show()\n",
    "        \n",
    "    def get_action_test(self, action):\n",
    "        if action=='left':\n",
    "            return '<'\n",
    "        if action=='right':\n",
    "            return '>'\n",
    "        if action=='up':\n",
    "            return '^'\n",
    "        if action=='down':\n",
    "            return 'v'\n",
    "        if action=='exit':\n",
    "            return 'x'\n",
    "        \n",
    "    def plot_action(self, actions, values):\n",
    "        fig1 = plt.figure(figsize=(10, 10))\n",
    "        ax1 = fig1.add_subplot(111, aspect='equal')\n",
    "        \n",
    "        # Lineas\n",
    "        for i in range(0, len(self.grid)+1):\n",
    "            ax1.axvline(i , linewidth=2, color=\"#2D2D33\")\n",
    "        for j in range(0, len(self.grid[0])+1):\n",
    "            ax1.axhline(j , linewidth=2, color=\"#2D2D33\")\n",
    "        \n",
    "        # Amarillo - inicio\n",
    "        ax1.add_patch(patches.Rectangle(self.initial_state, 1, 1, facecolor = \"#F6D924\"))\n",
    "        for i in range(len(self.grid)):\n",
    "            for j in range(len(self.grid[0])):\n",
    "                if self.grid[i][j] >= 1: # verde\n",
    "                    ax1.add_patch(patches.Rectangle((i,j), 1, 1, facecolor = \"#68FF33\"))\n",
    "                if self.grid[i][j] == -2: # gris\n",
    "                    ax1.add_patch(patches.Rectangle((i,j), 1, 1, facecolor = \"#6c7780\"))\n",
    "                if self.grid[i][j] == -1 or self.grid[i][j] == -100: # rojo\n",
    "                    ax1.add_patch(patches.Rectangle((i,j), 1, 1, facecolor = \"#cc0000\"))\n",
    "        self.reset()\n",
    "        plt.scatter(self.state[0] + 0.5, self.state[1] +0.5, s = 100, color = \"black\", marker = \"o\", facecolor = \"blue\", edgecolors = \"blue\", zorder = 10)\n",
    "        \n",
    "        for i in range(len(self.grid)):\n",
    "            for j in range(len(self.grid[0])):\n",
    "                if self.grid[i, j] == -2:\n",
    "                    ax1.text(i+0.5, j+0.5, \"*\", ha='center', va='center')\n",
    "                else:\n",
    "                    ax1.text(i+0.5, j+0.75, round(values[i, j],2), ha='center', va='center')\n",
    "                    text2=self.get_action_test(actions[i][j])\n",
    "                    ax1.text(i+0.5, j+0.25, text2, ha='center', va='center')\n",
    "        plt.axis(\"off\")\n",
    "        plt.show()\n",
    "        "
   ]
  },
  {
   "cell_type": "markdown",
   "metadata": {},
   "source": [
    "# Iteración de Políticas\n",
    "\n",
    "En este ejercicio vamos a implementar el segundo método para solucionar Procesos de Decisión de Markov (MDPs). El método a implementar es la iteración de políticas.\n",
    "\n",
    "La iteración de políticas esta basada en la fórmula:\n",
    "\n",
    "![policy_iteration](./img/policy.png)\n",
    "\n",
    "Para resolver los MDPs crearemos un archivo `value_iteration.py` el cual utilizaremos para solucionar el ambiente de Gridworld.\n",
    "\n",
    "**Task 2**\n",
    "1.\tImplemente la classe `PolicyIteration` basada en `ValueIteration`, implementada anteriormente. Teniendo en cuenta los cambios relevantes que deba implementar. Tenga en cuenta que tanto `policy_evaluation` como `policty_iteration` deben ser funciones independientes. "
   ]
  },
  {
   "cell_type": "code",
   "execution_count": 75,
   "metadata": {},
   "outputs": [],
   "source": [
    "class PolicyIteration:\n",
    "    def __init__(self, mdp, discount=0.9, iterations=100):\n",
    "        self.mdp = mdp\n",
    "        self.discount = discount\n",
    "        self.iterations = iterations\n",
    "        self.last_values = self.grid = np.zeros((self.mdp.nrows, self.mdp.ncols))\n",
    "        self.values = self.mdp.get_states() # {s: 0 for s in self.mdp.grid()}\n",
    "        self.policy = []\n",
    "        self.last_policy = []\n",
    "        for i in range(len(self.mdp.get_states())):\n",
    "            aux = []\n",
    "            aux2 = []\n",
    "            for j in range(len(self.mdp.get_states()[0])):\n",
    "                state = (i,j)\n",
    "                aux.append(self.mdp.get_possible_actions(state)[0])\n",
    "                aux2.append(None)\n",
    "            self.policy.append(aux)\n",
    "            self.last_policy.append(aux2)\n",
    "        \n",
    "    def run_value_iteration(self):\n",
    "        print(\"---------------------------------------\")\n",
    "        # print(\"Starter policy:\", print(self.policy))\n",
    "        # print()\n",
    "        for i in range(self.iterations):\n",
    "            new_values = self.values.copy()\n",
    "            for k in range(len(self.mdp.get_states())):\n",
    "                for j in range(len(self.mdp.get_states()[0])):\n",
    "                    state = (k,j)\n",
    "                    new_values[k][j] = self.compute_qvalue_from_values(state, self.policy[k][j])\n",
    "            self.values = new_values\n",
    "            # Mejora\n",
    "            for k in range(len(self.mdp.get_states())):\n",
    "                for j in range(len(self.mdp.get_states()[0])):\n",
    "                    state = (k,j)\n",
    "                    self.last_policy[k][j] = self.policy[k][j]\n",
    "                    self.policy[k][j] = self.compute_action_from_values(state)\n",
    "            centinela = True\n",
    "            for k in range(len(self.mdp.get_states())):\n",
    "                for j in range(len(self.mdp.get_states()[0])):\n",
    "                    if self.last_policy[k][j] != self.policy[k][j]:\n",
    "                        centinela = False\n",
    "            if centinela:\n",
    "                print(\"Ya logro convergencia, en la iteracion:\",i)\n",
    "                return self.policy\n",
    "        print( \"Values\", self.values)\n",
    "        return self.policy\n",
    "\n",
    "    def get_value(self, state):\n",
    "        return self.values[state]\n",
    "\n",
    "    def compute_qvalue_from_values(self, state, action):\n",
    "        qvalue = 0\n",
    "        reward, next_state = self.mdp.get_next_states(state, action)\n",
    "        val = 0\n",
    "        if self.mdp.get_states()[state] == 0:\n",
    "            val = self.get_value(next_state)\n",
    "        # reward = self.mdp.get_reward(state, action, next_state)\n",
    "        # qvalue += prob * (reward + self.discount * self.get_value(next_state))\n",
    "        qvalue += (reward + self.discount * val)\n",
    "        return qvalue\n",
    "\n",
    "    def compute_action_from_values(self, state):\n",
    "        best_action = None\n",
    "        best_value = float('-inf')\n",
    "        for action in self.mdp.get_possible_actions(state):\n",
    "            qvalue = self.compute_qvalue_from_values(state, action)\n",
    "            if qvalue > best_value:\n",
    "                best_value = qvalue\n",
    "                best_action = action\n",
    "        return best_action\n",
    "\n",
    "    def get_action(self, state):\n",
    "        return self.compute_action_from_values(state)\n",
    "\n",
    "    def get_qvalue(self, state, action):\n",
    "        return self.compute_qvalue_from_values(state, action)\n",
    "\n",
    "    def get_policy(self, state):\n",
    "        action = self.get_action(state)\n",
    "        if action is None:\n",
    "            return None\n",
    "        return action\n"
   ]
  },
  {
   "cell_type": "markdown",
   "metadata": {},
   "source": [
    "# Entrega\n",
    "\n",
    "Para esta tarea debe entregar: \n",
    "- La implementación de la iteración de políticas para solucionar MDPs (`policy_iteration.py`).\n",
    "- Un documento de análisis respondiendo a las siguientes preguntas (con screenshots de la solución y las explicaciones correspondientes del comportamiento observado).\n",
    "  -\tEjecute su implementación de iteración de políticas sobre Gridworld y Bridge. ¿Cuando convergen las políticas?\n",
    "  -\tPruebe la implementación utilizando factores de descuento 0.9 y 0.1. ¿Qué cambios observa (si algúno) y como puede explicarlos. \n",
    "  \n",
    "  Recuerde que el ambiente del puente se define con la matriz de `3x7` donde las filas 1 y 3 tienen recompensa -100 entre las columnas 2 y 6. La fila 2 corresponde a el puente, con entrada en la casilla `(2,1)` y salida en la casilla `(2,7)` con recompensa 100, como se muestra en la figura\n",
    "\n",
    "  ![bridge](./img/bridge.png)\n"
   ]
  },
  {
   "cell_type": "markdown",
   "metadata": {},
   "source": [
    "#### Ambiente bridge"
   ]
  },
  {
   "cell_type": "code",
   "execution_count": 76,
   "metadata": {},
   "outputs": [
    {
     "data": {
      "image/png": "[encoded data removed]",
      "text/plain": [
       "<Figure size 720x720 with 1 Axes>"
      ]
     },
     "metadata": {
      "needs_background": "light"
     },
     "output_type": "display_data"
    }
   ],
   "source": [
    "# Define the gridworld board\n",
    "board = [[\"*\",\"+1\",\"*\"],\n",
    "         [\"-100\",\" \",\"-100\"],\n",
    "         [\"-100\",\" \",\"-100\"],\n",
    "         [\"-100\",\" \",\"-100\"],\n",
    "         [\"-100\",\" \",\"-100\"],\n",
    "         [\"-100\",\" \",\"-100\"],\n",
    "         [\"*\",\"+100\",\"*\"]]\n",
    "initial_state =(1,1)\n",
    "# Create a Gridworld instance\n",
    "gridworld = Gridworld(board,initial_state)\n",
    "\n",
    "gridworld.plot()"
   ]
  },
  {
   "cell_type": "code",
   "execution_count": 77,
   "metadata": {},
   "outputs": [
    {
     "name": "stdout",
     "output_type": "stream",
     "text": [
      "Policys after 10 iterations with 0.9 of discount:\n",
      "---------------------------------------\n",
      "Ya logro convergencia, en la iteracion: 5\n"
     ]
    },
    {
     "data": {
      "image/png": "[encoded data removed]",
      "text/plain": [
       "<Figure size 720x720 with 1 Axes>"
      ]
     },
     "metadata": {
      "needs_background": "light"
     },
     "output_type": "display_data"
    },
    {
     "name": "stdout",
     "output_type": "stream",
     "text": [
      "\n",
      "\n",
      "Policys after 10 iterations with 0.1 of discount:\n",
      "---------------------------------------\n",
      "Ya logro convergencia, en la iteracion: 3\n"
     ]
    },
    {
     "data": {
      "image/png": "[encoded data removed]",
      "text/plain": [
       "<Figure size 720x720 with 1 Axes>"
      ]
     },
     "metadata": {
      "needs_background": "light"
     },
     "output_type": "display_data"
    },
    {
     "name": "stdout",
     "output_type": "stream",
     "text": [
      "\n"
     ]
    }
   ],
   "source": [
    "# Run value iteration for 10 iterations with 0.9 of discount\n",
    "value_iteration09 = PolicyIteration(gridworld, discount = 0.9, iterations=10)\n",
    "# Print the resulting values\n",
    "print(\"Policys after 10 iterations with 0.9 of discount:\")\n",
    "value_iteration09.run_value_iteration()\n",
    "gridworld.plot_action(value_iteration09.policy, value_iteration09.values)\n",
    "print()\n",
    "print()\n",
    "# Run value iteration for 10 iterations with 0.1 of discount\n",
    "value_iteration01 = PolicyIteration(gridworld, discount = 0.1, iterations=10)\n",
    "# Print the resulting values\n",
    "print(\"Policys after 10 iterations with 0.1 of discount:\")\n",
    "value_iteration01.run_value_iteration()\n",
    "gridworld.plot_action(value_iteration01.policy, value_iteration01.values)\n",
    "print()"
   ]
  },
  {
   "cell_type": "markdown",
   "metadata": {},
   "source": [
    "En este caso, se puede evidenciar que la politica converge mucho mas rapido que la iteracion de valores, pues en la iteracion 5 converge ya a la politica optima. En cuanto a la diferencia entre tener un descuento de 0.1 y otro de 0.9, se puede evidenciar que al igual que en la iteracion de valores la politica converge diferente, pues para el caso del descuento de 0.1, en el estado amarillo, para la politica no hay mucha diferencia entre ir a la recompensa de 100 o a la de 1, por lo que elige la de 1, esto pues los valores no cambian significativamente."
   ]
  },
  {
   "cell_type": "markdown",
   "metadata": {},
   "source": [
    "#### Ambiente gridworlg"
   ]
  },
  {
   "cell_type": "code",
   "execution_count": 78,
   "metadata": {},
   "outputs": [
    {
     "data": {
      "image/png": "[encoded data removed]",
      "text/plain": [
       "<Figure size 720x720 with 1 Axes>"
      ]
     },
     "metadata": {
      "needs_background": "light"
     },
     "output_type": "display_data"
    }
   ],
   "source": [
    "board = [\n",
    "    [' ', ' ', ' ', ' ', ' ',' ', ' ', ' ', ' ', ' '],\n",
    "    [' ', ' ', ' ', ' ', ' ',' ', ' ', '*', ' ', ' '],\n",
    "    [' ', ' ', ' ', ' ', ' ',' ', ' ', '*', ' ', ' '],\n",
    "    [' ', ' ', ' ', ' ', ' ',' ', ' ', '*', ' ', ' '],\n",
    "    [' ', ' ', '*', '*', '*','*', '*', '*', ' ', ' '],\n",
    "    [' ', ' ', '-1', ' ', '+1','-1', ' ', ' ', ' ', ' '],\n",
    "    [' ', ' ', '-1', ' ', ' ',' ', ' ', '*', ' ', ' '],\n",
    "    [' ', ' ', ' ', ' ', ' ',' ', ' ', '*', ' ', ' '],\n",
    "    [' ', ' ', ' ', ' ', ' ',' ', ' ', '*', ' ', ' '],\n",
    "    [' ', ' ', ' ', ' ', ' ',' ', ' ', ' ', ' ', ' '],\n",
    "]\n",
    "\n",
    "initial_state = (0, 9)\n",
    "\n",
    "env = Gridworld(board, initial_state)\n",
    "\n",
    "env.plot()"
   ]
  },
  {
   "cell_type": "code",
   "execution_count": 79,
   "metadata": {},
   "outputs": [
    {
     "name": "stdout",
     "output_type": "stream",
     "text": [
      "Policys after 10 iterations with 0.9 of discount:\n",
      "---------------------------------------\n",
      "Ya logro convergencia, en la iteracion: 14\n"
     ]
    },
    {
     "data": {
      "image/png": "[encoded data removed]",
      "text/plain": [
       "<Figure size 720x720 with 1 Axes>"
      ]
     },
     "metadata": {
      "needs_background": "light"
     },
     "output_type": "display_data"
    },
    {
     "name": "stdout",
     "output_type": "stream",
     "text": [
      "\n",
      "Policys after 10 iterations with 0.1 of discount:\n",
      "---------------------------------------\n",
      "Ya logro convergencia, en la iteracion: 14\n"
     ]
    },
    {
     "data": {
      "image/png": "[encoded data removed]",
      "text/plain": [
       "<Figure size 720x720 with 1 Axes>"
      ]
     },
     "metadata": {
      "needs_background": "light"
     },
     "output_type": "display_data"
    },
    {
     "name": "stdout",
     "output_type": "stream",
     "text": [
      "\n"
     ]
    }
   ],
   "source": [
    "# Run value iteration for 10 iterations with 0.9 of discount\n",
    "value_iteration09 = PolicyIteration(env, discount = 0.9, iterations=15)\n",
    "# Print the resulting values\n",
    "print(\"Policys after 10 iterations with 0.9 of discount:\")\n",
    "value_iteration09.run_value_iteration()\n",
    "env.plot_action(value_iteration09.policy, value_iteration09.values)\n",
    "print()\n",
    "\n",
    "# Run value iteration for 10 iterations with 0.1 of discount\n",
    "value_iteration01 = PolicyIteration(env, discount = 0.1, iterations=15)\n",
    "# Print the resulting values\n",
    "print(\"Policys after 10 iterations with 0.1 of discount:\")\n",
    "value_iteration01.run_value_iteration()\n",
    "env.plot_action(value_iteration01.policy, value_iteration01.values)\n",
    "print()"
   ]
  },
  {
   "cell_type": "markdown",
   "metadata": {},
   "source": [
    "En este caso, al igual que en el anterior, se puede evidenciar que la politica converge mucho mas rapido que la iteracion de valores, pues en la iteracion 14 converge ya a la politica optima. En cuanto a la diferencia entre tener un descuento de 0.1 y otro de 0.9, se puede evidenciar que al igual que en la iteracion de valores la politica converge diferente, pues para el caso del descuento de 0.1, en el estado amarillo, para la politica no hay mucha diferencia entre ir a la recompensa de 100 o a la de 1, por lo que elige la de 1, esto pues los valores no cambian significativamente. No obstante, la politica en su mayoria tiene a organizarse de forma muy parecida, pero si se evidencia de forma significativa en algunos casos que la politica es diferente para los diferentes descuentos"
   ]
  }
 ],
 "metadata": {
  "kernelspec": {
   "display_name": "Python 3 (ipykernel)",
   "language": "python",
   "name": "python3"
  },
  "language_info": {
   "codemirror_mode": {
    "name": "ipython",
    "version": 3
   },
   "file_extension": ".py",
   "mimetype": "text/x-python",
   "name": "python",
   "nbconvert_exporter": "python",
   "pygments_lexer": "ipython3",
   "version": "3.9.7"
  },
  "vscode": {
   "interpreter": {
    "hash": "31f2aee4e71d21fbe5cf8b01ff0e069b9275f58929596ceb00d14d90e3e16cd6"
   }
  }
 },
 "nbformat": 4,
 "nbformat_minor": 4
}
